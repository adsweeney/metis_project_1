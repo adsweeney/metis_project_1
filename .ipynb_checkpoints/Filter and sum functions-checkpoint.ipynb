{
 "cells": [
  {
   "cell_type": "code",
   "execution_count": null,
   "metadata": {},
   "outputs": [],
   "source": [
    "#\n",
    "#filters nj path trains from data\n",
    "df = df[~df['c_a'].str.contains('PTH')]\n",
    "\n",
    "#filters odd time slots \n",
    "df = df[df.time.astype(str).str.contains('00:00')]\n",
    "\n",
    "#filters recovery audit rows\n",
    "df = df[~df['desc'].str.contains('RECOVR')]"
   ]
  },
  {
   "cell_type": "code",
   "execution_count": null,
   "metadata": {},
   "outputs": [],
   "source": [
    "\n",
    "#this sums all scp's per time slot in a given date and time\n",
    "# replace delta_exits with cleaned delta diffs\n",
    "mf = lf.groupby(['unit', 'date', 'time',]).agg({'delta_exits': 'sum'})"
   ]
  }
 ],
 "metadata": {
  "kernelspec": {
   "display_name": "Python 3",
   "language": "python",
   "name": "python3"
  },
  "language_info": {
   "codemirror_mode": {
    "name": "ipython",
    "version": 3
   },
   "file_extension": ".py",
   "mimetype": "text/x-python",
   "name": "python",
   "nbconvert_exporter": "python",
   "pygments_lexer": "ipython3",
   "version": "3.7.6"
  }
 },
 "nbformat": 4,
 "nbformat_minor": 4
}

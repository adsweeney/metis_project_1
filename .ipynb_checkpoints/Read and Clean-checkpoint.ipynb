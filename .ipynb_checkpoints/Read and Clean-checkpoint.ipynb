{
 "cells": [
  {
   "cell_type": "code",
   "execution_count": 1,
   "metadata": {},
   "outputs": [],
   "source": [
    "def clean(file_path):\n",
    "    '''\n",
    "    Data cleaning pipeline:\n",
    "    Renaming columns and rearranging column orders\n",
    "    Converting 'date' column into a datetime object\n",
    "    Adding 'day_of_the_week' classifier\n",
    "    Removing unneccessary columns\n",
    "    '''\n",
    "    names = ['c_a', 'unit', 'scp', 'station', 'linename', 'division', \n",
    "             'date', 'time', 'desc', 'entries', 'exits']\n",
    "    df = pd.read_csv(file_path, names=names, skiprows=1)\n",
    "    df['date'] = pd.to_datetime(df['date'])\n",
    "    df['day_of_week'] = df['date'].dt.day_name()\n",
    "    df = df[['station', 'unit', 'c_a', 'scp', 'date', 'day_of_week', 'time', 'entries', 'exits']]\n",
    "    #filter out path trains\n",
    "    df[~df['c_a'].str.contains('PTH')]\n",
    "    #return df\n",
    "    return df.to_pickle('/filename/')"
   ]
  },
  {
   "cell_type": "code",
   "execution_count": null,
   "metadata": {},
   "outputs": [],
   "source": []
  }
 ],
 "metadata": {
  "kernelspec": {
   "display_name": "Python 3",
   "language": "python",
   "name": "python3"
  },
  "language_info": {
   "codemirror_mode": {
    "name": "ipython",
    "version": 3
   },
   "file_extension": ".py",
   "mimetype": "text/x-python",
   "name": "python",
   "nbconvert_exporter": "python",
   "pygments_lexer": "ipython3",
   "version": "3.7.6"
  }
 },
 "nbformat": 4,
 "nbformat_minor": 4
}

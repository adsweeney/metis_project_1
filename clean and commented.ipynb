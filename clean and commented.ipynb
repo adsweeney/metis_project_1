{
 "cells": [
  {
   "cell_type": "code",
   "execution_count": null,
   "metadata": {},
   "outputs": [],
   "source": [
    "import pandas as pd\n",
    "import matplotlib.pyplot as plt\n",
    "import numpy as np\n",
    "\n",
    "def clean(week_nums):\n",
    "    dfs = []\n",
    "    for week_num in week_nums:\n",
    "        url = \"http://web.mta.info/developers/data/nyct/turnstile/turnstile_{}.txt\"\n",
    "        file_url = url.format(week_num)\n",
    "        names = ['c_a', 'unit', 'scp', 'station', 'linename', 'division', \n",
    "                 'date', 'time', 'desc', 'entries', 'exits']\n",
    "        df = pd.read_csv(file_url, names=names, parse_dates=[['date','time']], \n",
    "                         keep_date_col=True, skiprows=1)\n",
    "        df['date'] = pd.to_datetime(df['date'])\n",
    "        df['day_of_week'] = df['date_time'].dt.day_name()\n",
    "        df = df[(~df['c_a'].str.contains('PTH') & \n",
    "                 ~df['desc'].str.contains('RECOVR') & \n",
    "                 df.time.astype(str).str.contains('00:00'))]\n",
    "        df = df[['station', 'unit', 'c_a', 'scp', 'date_time', 'date', 'day_of_week', 'time', \n",
    "                'desc', 'entries', 'exits']]\n",
    "        #delete duplicates -> could be done after dataframe creation instead of in this loop\n",
    "        df.sort_values(['c_a', 'unit', 'scp', 'station', 'date_time'], inplace=True, ascending=False)\n",
    "        df.drop_duplicates(subset=['c_a', 'unit', 'scp', 'station', 'date_time'], inplace=True)\n",
    "        dfs.append(df)\n",
    "        print(week_num)\n",
    "    return pd.concat(dfs)\n",
    "\n",
    "week_nums = [190622]"
   ]
  },
  {
   "cell_type": "code",
   "execution_count": null,
   "metadata": {},
   "outputs": [],
   "source": [
    "turnstiles_df = clean(week_nums)"
   ]
  },
  {
   "cell_type": "code",
   "execution_count": null,
   "metadata": {},
   "outputs": [],
   "source": [
    "#add column specifying the prior block of time to find the change in total entries / exits\n",
    "turnstiles_block = (turnstiles_df\n",
    "                        .groupby([\"c_a\", \"unit\", \"scp\", \"station\", \"date_time\", \"exits\"],as_index=False).entries.first())\n",
    "turnstiles_block[[\"prev_datetime\", \"prev_entries\", \"prev_exits\"]] = (turnstiles_block\n",
    "                                                       .groupby([\"c_a\", \"unit\", \"scp\", \"station\"])[\"date_time\", \"entries\", \"exits\"]\n",
    "                                                       .apply(lambda grp: grp.shift(1)))\n",
    "turnstiles_block.dropna(subset=[\"prev_datetime\"], axis=0, inplace=True)\n",
    "def get_counts_entry(row, max_counter):\n",
    "    counter = row[\"entries\"] - row[\"prev_entries\"]\n",
    "    if counter < 0:\n",
    "        # Maybe counter is reversed?\n",
    "        counter = -counter\n",
    "    if counter > max_counter:\n",
    "        # Maybe counter was reset to 0? \n",
    "        print(row[\"entries\"], row[\"prev_entries\"])\n",
    "        counter = min(row[\"entries\"], row[\"prev_entries\"])\n",
    "    if counter > max_counter:\n",
    "        # Check it again to make sure we're not still giving a counter that's too big\n",
    "        return 0\n",
    "    return counter\n"
   ]
  },
  {
   "cell_type": "code",
   "execution_count": null,
   "metadata": {},
   "outputs": [],
   "source": [
    "def get_counts_exit(row, max_counter):\n",
    "    counter = row[\"exits\"] - row[\"prev_exits\"]\n",
    "    if counter < 0:\n",
    "        # Maybe counter is reversed?\n",
    "        counter = -counter\n",
    "    if counter > max_counter:\n",
    "        # Maybe counter was reset to 0? \n",
    "        print(row[\"exits\"], row[\"prev_exits\"])\n",
    "        counter = min(row[\"exits\"], row[\"prev_exits\"])\n",
    "    if counter > max_counter:\n",
    "        # Check it again to make sure we're not still giving a counter that's too big\n",
    "        return 0\n",
    "    return counter"
   ]
  },
  {
   "cell_type": "code",
   "execution_count": null,
   "metadata": {},
   "outputs": [],
   "source": [
    "#filter outlier exit and entry zounts\n",
    "turnstiles_block['delta_entries'] = turnstiles_block.apply(get_counts_entry, axis=1, max_counter=1e5)\n",
    "turnstiles_block['delta_exits'] = turnstiles_block.apply(get_counts_exit, axis=1, max_counter=70000)\n",
    "#group turnstiles by time block, total\n",
    "unit_hourly = (turnstiles_block.groupby(['station','unit','date_time'])['delta_exits','delta_entries'].sum().reset_index())\n",
    "#highest exit count by station / time blocks overall\n",
    "top = unit_hourly.groupby(['unit', 'date_time'])['delta_exits','delta_entries'].sum().reset_index()\n",
    "#head length variable-> visually assess list til 10 uniques\n",
    "top10 = (top.sort_values(by=['delta_exits'],ascending=False)\n",
    "        .unit.head(100))"
   ]
  },
  {
   "cell_type": "code",
   "execution_count": null,
   "metadata": {},
   "outputs": [],
   "source": [
    "plt.figure(figsize=[15,10])\n",
    "for i in top5units: \n",
    "    mask = (top['unit'] == i)\n",
    "    top5_df = top[mask]\n",
    "    plt.plot(top5_df.date_time, top5_df.delta_exits, label = top5_df.unit.iloc[0])\n",
    "plt.legend()\n",
    "\n",
    "plt.title('Traffic in the top 5 stations during COVID-19', fontsize=20, weight='bold',color='b')\n",
    "plt.xlabel('Date', fontsize=15, weight='bold',color='b')\n",
    "plt.ylabel('Traffic', fontsize=15, weight='bold',color='b')\n",
    "plt.savefig('top5 stations traffic.png')"
   ]
  },
  {
   "cell_type": "code",
   "execution_count": null,
   "metadata": {},
   "outputs": [],
   "source": [
    "plt.figure(figsize=[15,10])\n",
    "plt.plot(sample_df.date_time, sample_df.delta_exits)\n",
    "\n",
    "for i in top10units:\n",
    "    mask = (unit_hourly['unit'] == i)\n",
    "    top5_df = unit_hourly[mask].head(50)\n",
    "\n",
    "    plt.plot(top5_df.date_time, top5_df.delta_exits, label = unit_hourly['unit' ==i]\n",
    "plt.legend()"
   ]
  },
  {
   "cell_type": "code",
   "execution_count": null,
   "metadata": {},
   "outputs": [],
   "source": []
  },
  {
   "cell_type": "code",
   "execution_count": null,
   "metadata": {},
   "outputs": [],
   "source": []
  }
 ],
 "metadata": {
  "kernelspec": {
   "display_name": "Python [conda env:metis] *",
   "language": "python",
   "name": "conda-env-metis-py"
  },
  "language_info": {
   "codemirror_mode": {
    "name": "ipython",
    "version": 3
   },
   "file_extension": ".py",
   "mimetype": "text/x-python",
   "name": "python",
   "nbconvert_exporter": "python",
   "pygments_lexer": "ipython3",
   "version": "3.8.3"
  }
 },
 "nbformat": 4,
 "nbformat_minor": 4
}

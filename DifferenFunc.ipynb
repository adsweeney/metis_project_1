{
 "cells": [
  {
   "cell_type": "code",
   "execution_count": null,
   "metadata": {},
   "outputs": [],
   "source": [
    "import pandas as pd\n",
    "import numpy as np\n",
    "import matplotlib.pyplot as plt\n",
    "\n",
    "%matplotlib inline\n",
    "\n",
    "import datetime\n",
    "\n",
    "# Source: http://web.mta.info/developers/turnstile.html\n",
    "def get_data(week_nums):\n",
    "    url = \"http://web.mta.info/developers/data/nyct/turnstile/turnstile_{}.txt\"\n",
    "    dfs = []\n",
    "    for week_num in week_nums:\n",
    "        file_url = url.format(week_num)\n",
    "        dfs.append(pd.read_csv(file_url))\n",
    "    return pd.concat(dfs)\n",
    "        \n",
    "week_nums = [160903, 160910, 160917]\n",
    "turnstiles_df = get_data(week_nums)\n",
    "\n"
   ]
  },
  {
   "cell_type": "code",
   "execution_count": null,
   "metadata": {},
   "outputs": [],
   "source": [
    "from datetime import datetime as dt\n",
    "\n"
   ]
  },
  {
   "cell_type": "code",
   "execution_count": null,
   "metadata": {},
   "outputs": [],
   "source": [
    "def get_data_parse_dt(week_nums):\n",
    "    url = \"http://web.mta.info/developers/data/nyct/turnstile/turnstile_{}.txt\"\n",
    "    dfs = []\n",
    "    for week_num in week_nums:\n",
    "        file_url = url.format(week_num)\n",
    "        dfs.append(pd.read_csv(file_url, parse_dates=[['DATE','TIME']], keep_date_col=True))\n",
    "    return pd.concat(dfs)\n",
    "        \n",
    "week_nums = [160903, 160910, 160917]\n",
    "turnstiles_df_2 = get_data_parse_dt(week_nums)\n",
    "turnstiles_df_2.head()\n",
    "\n"
   ]
  },
  {
   "cell_type": "code",
   "execution_count": null,
   "metadata": {},
   "outputs": [],
   "source": [
    "turnstiles_df.sort_values([\"C/A\", \"UNIT\", \"SCP\", \"STATION\", \"DATE_TIME\"], \n",
    "                          inplace=True, ascending=False)\n",
    "turnstiles_df.drop_duplicates(subset=[\"C/A\", \"UNIT\", \"SCP\", \"STATION\", \"DATE_TIME\"], inplace=True)\n",
    "\n"
   ]
  },
  {
   "cell_type": "code",
   "execution_count": null,
   "metadata": {},
   "outputs": [],
   "source": [
    "turnstiles_block = (turnstiles_df\n",
    "                        .groupby([\"c_a\", \"unit\", \"scp\", \"station\", \"date_time\", \"exits\"],as_index=False).ENTRIES.first())\n",
    "turnstiles_block[[\"prev_datetime\", \"prev_entries\", \"prev_exits\"]] = (turnstiles_daily\n",
    "                                                       .groupby([\"c_a\", \"unit\", \"scp\", \"station\"])[\"date\", \"entries\", \"exits\"]\n",
    "                                                       .apply(lambda grp: grp.shift(1)))\n",
    "\n",
    "turnstiles_block.dropna(subset=[\"prev_datetime\"], axis=0, inplace=True)\n",
    "\n",
    "\n"
   ]
  },
  {
   "cell_type": "code",
   "execution_count": null,
   "metadata": {},
   "outputs": [],
   "source": [
    "turnstiles_block = (turnstiles_df\n",
    "                        .groupby([\"c_a\", \"unit\", \"scp\", \"station\", \"date_time\", \"exits\"],as_index=False).ENTRIES.first())\n",
    "turnstiles_block[[\"prev_datetime\", \"prev_entries\", \"prev_exits\"]] = (turnstiles_daily\n",
    "                                                       .groupby([\"c_a\", \"unit\", \"scp\", \"station\"])[\"date\", \"entries\", \"exits\"]\n",
    "                                                       .apply(lambda grp: grp.shift(1)))\n",
    "\n",
    "turnstiles_block.dropna(subset=[\"prev_datetime\"], axis=0, inplace=True)\n",
    "\n",
    "def get_counts_entry(row, max_counter):\n",
    "    counter = row[\"entries\"] - row[\"PREV_ENTRIES\"]\n",
    "    if counter < 0:\n",
    "        # Maybe counter is reversed?\n",
    "        counter = -counter\n",
    "    if counter > max_counter:\n",
    "        # Maybe counter was reset to 0? \n",
    "        print(row[\"ENTRIES\"], row[\"PREV_ENTRIES\"])\n",
    "        counter = min(row[\"ENTRIES\"], row[\"PREV_ENTRIES\"])\n",
    "    if counter > max_counter:\n",
    "        # Check it again to make sure we're not still giving a counter that's too big\n",
    "        return 0\n",
    "    return counter\n",
    "\n",
    "\n",
    "\n",
    "def get_counts_exit(row, max_counter):\n",
    "    counter = row[\"EXITS\"] - row[\"PREV_EXITS\"]\n",
    "    if counter < 0:\n",
    "        # Maybe counter is reversed?\n",
    "        counter = -counter\n",
    "    if counter > max_counter:\n",
    "        # Maybe counter was reset to 0? \n",
    "        print(row[\"EXITS\"], row[\"PREV_EXITS\"])\n",
    "        counter = min(row[\"EXITS\"], row[\"PREV_EXITS\"])\n",
    "    if counter > max_counter:\n",
    "        # Check it again to make sure we're not still giving a counter that's too big\n",
    "        return 0\n",
    "    return counter"
   ]
  }
 ],
 "metadata": {
  "kernelspec": {
   "display_name": "Python 3",
   "language": "python",
   "name": "python3"
  },
  "language_info": {
   "codemirror_mode": {
    "name": "ipython",
    "version": 3
   },
   "file_extension": ".py",
   "mimetype": "text/x-python",
   "name": "python",
   "nbconvert_exporter": "python",
   "pygments_lexer": "ipython3",
   "version": "3.7.6"
  }
 },
 "nbformat": 4,
 "nbformat_minor": 4
}

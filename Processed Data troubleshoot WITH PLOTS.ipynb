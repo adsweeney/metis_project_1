{
 "cells": [
  {
   "cell_type": "code",
   "execution_count": 58,
   "metadata": {
    "ExecuteTime": {
     "end_time": "2020-07-04T00:15:09.899334Z",
     "start_time": "2020-07-04T00:15:09.891822Z"
    }
   },
   "outputs": [],
   "source": [
    "import pandas as pd\n",
    "\n",
    "def clean(week_nums):\n",
    "    dfs = []\n",
    "    for week_num in week_nums:\n",
    "        url = \"http://web.mta.info/developers/data/nyct/turnstile/turnstile_{}.txt\"\n",
    "        file_url = url.format(week_num)\n",
    "        names = ['c_a', 'unit', 'scp', 'station', 'linename', 'division', \n",
    "                 'date', 'time', 'desc', 'entries', 'exits']\n",
    "        df = pd.read_csv(file_url, names=names, parse_dates=[['date','time']], \n",
    "                         keep_date_col=True, skiprows=1)\n",
    "        df['date'] = pd.to_datetime(df['date'])\n",
    "        df['day_of_week'] = df['date_time'].dt.day_name()\n",
    "        df = df[(~df['c_a'].str.contains('PTH') & \n",
    "                 ~df['desc'].str.contains('RECOVR') & \n",
    "                 df.time.astype(str).str.contains('00:00'))]\n",
    "        df = df[['station', 'unit', 'c_a', 'scp', 'date_time', 'date', 'day_of_week', 'time', \n",
    "                'desc', 'entries', 'exits']]\n",
    "        #delete duplicates -> could be done after dataframe creation instead of in this loop\n",
    "        df.sort_values(['c_a', 'unit', 'scp', 'station', 'date_time'], inplace=True, ascending=False)\n",
    "        df.drop_duplicates(subset=['c_a', 'unit', 'scp', 'station', 'date_time'], inplace=True)\n",
    "        dfs.append(df)\n",
    "        print(week_num)\n",
    "    return pd.concat(dfs)\n",
    "\n",
    "week_nums = [200613, 200620, 200627]"
   ]
  },
  {
   "cell_type": "code",
   "execution_count": 59,
   "metadata": {
    "ExecuteTime": {
     "end_time": "2020-07-04T00:15:22.456922Z",
     "start_time": "2020-07-04T00:15:09.901931Z"
    }
   },
   "outputs": [
    {
     "name": "stdout",
     "output_type": "stream",
     "text": [
      "200613\n",
      "200620\n",
      "200627\n"
     ]
    }
   ],
   "source": [
    "turnstiles_df = clean(week_nums)"
   ]
  },
  {
   "cell_type": "code",
   "execution_count": 60,
   "metadata": {
    "ExecuteTime": {
     "end_time": "2020-07-04T00:15:22.464904Z",
     "start_time": "2020-07-04T00:15:22.459640Z"
    }
   },
   "outputs": [
    {
     "data": {
      "text/plain": [
       "206661   2020-06-12\n",
       "206660   2020-06-12\n",
       "206659   2020-06-12\n",
       "206658   2020-06-12\n",
       "206657   2020-06-12\n",
       "            ...    \n",
       "4        2020-06-20\n",
       "3        2020-06-20\n",
       "2        2020-06-20\n",
       "1        2020-06-20\n",
       "0        2020-06-20\n",
       "Name: date, Length: 568174, dtype: datetime64[ns]"
      ]
     },
     "execution_count": 60,
     "metadata": {},
     "output_type": "execute_result"
    }
   ],
   "source": [
    "turnstiles_df.date\n"
   ]
  },
  {
   "cell_type": "code",
   "execution_count": 61,
   "metadata": {
    "ExecuteTime": {
     "end_time": "2020-07-04T00:15:26.132360Z",
     "start_time": "2020-07-04T00:15:22.466808Z"
    }
   },
   "outputs": [
    {
     "name": "stderr",
     "output_type": "stream",
     "text": [
      "<ipython-input-61-7112b57ef14a>:3: FutureWarning: Indexing with multiple keys (implicitly converted to a tuple of keys) will be deprecated, use a list instead.\n",
      "  turnstiles_block[[\"prev_datetime\", \"prev_entries\", \"prev_exits\"]] = (turnstiles_block\n"
     ]
    }
   ],
   "source": [
    "turnstiles_block = (turnstiles_df\n",
    "                        .groupby([\"c_a\", \"unit\", \"scp\", \"station\", \"date_time\", \"exits\"],as_index=False).entries.first())\n",
    "turnstiles_block[[\"prev_datetime\", \"prev_entries\", \"prev_exits\"]] = (turnstiles_block\n",
    "                                                       .groupby([\"c_a\", \"unit\", \"scp\", \"station\"])[\"date_time\", \"entries\", \"exits\"]\n",
    "                                                       .apply(lambda grp: grp.shift(1)))\n",
    "turnstiles_block.dropna(subset=[\"prev_datetime\"], axis=0, inplace=True)\n",
    "def get_counts_entry(row, max_counter):\n",
    "    counter = row[\"entries\"] - row[\"prev_entries\"]\n",
    "    if counter < 0:\n",
    "        # Maybe counter is reversed?\n",
    "        counter = -counter\n",
    "    if counter > max_counter:\n",
    "        # Maybe counter was reset to 0? \n",
    "        print(row[\"entries\"], row[\"prev_entries\"])\n",
    "        counter = min(row[\"entries\"], row[\"prev_entries\"])\n",
    "    if counter > max_counter:\n",
    "        # Check it again to make sure we're not still giving a counter that's too big\n",
    "        return 0\n",
    "    return counter\n",
    "def get_counts_exit(row, max_counter):\n",
    "    counter = row[\"exits\"] - row[\"prev_exits\"]\n",
    "    if counter < 0:\n",
    "        # Maybe counter is reversed?\n",
    "        counter = -counter\n",
    "    if counter > max_counter:\n",
    "        # Maybe counter was reset to 0? \n",
    "        print(row[\"exits\"], row[\"prev_exits\"])\n",
    "        counter = min(row[\"exits\"], row[\"prev_exits\"])\n",
    "    if counter > max_counter:\n",
    "        # Check it again to make sure we're not still giving a counter that's too big\n",
    "        return 0\n",
    "    return counter"
   ]
  },
  {
   "cell_type": "code",
   "execution_count": 62,
   "metadata": {
    "ExecuteTime": {
     "end_time": "2020-07-04T00:15:41.862699Z",
     "start_time": "2020-07-04T00:15:26.134565Z"
    }
   },
   "outputs": [
    {
     "name": "stdout",
     "output_type": "stream",
     "text": [
      "3 563309.0\n",
      "43 8360152.0\n",
      "14 572793.0\n",
      "9 621129.0\n",
      "14 1200424.0\n",
      "1001657 12763558.0\n",
      "12763562 1001657.0\n",
      "12 2393140.0\n",
      "2555909 514070.0\n",
      "37 6871938.0\n",
      "56 499510.0\n",
      "5 235111205.0\n",
      "40 297261.0\n",
      "78 920207.0\n",
      "262144 0.0\n",
      "654322392 2808057.0\n",
      "2808205 654322392.0\n",
      "327721 17080.0\n",
      "6 6362738.0\n",
      "66 371906.0\n",
      "14 795788.0\n",
      "15 6666024.0\n",
      "1703967 17387249.0\n",
      "31 517645.0\n",
      "20 4362577.0\n"
     ]
    }
   ],
   "source": [
    "turnstiles_block['delta_entries'] = turnstiles_block.apply(get_counts_entry, axis=1, max_counter=1e5)"
   ]
  },
  {
   "cell_type": "code",
   "execution_count": 117,
   "metadata": {
    "ExecuteTime": {
     "end_time": "2020-07-04T00:44:47.403919Z",
     "start_time": "2020-07-04T00:44:30.805713Z"
    }
   },
   "outputs": [
    {
     "name": "stdout",
     "output_type": "stream",
     "text": [
      "2 435092.0\n",
      "22 10927677.0\n",
      "4 23650.0\n",
      "2 560805.0\n",
      "28 2390294.0\n",
      "45672 2811504.0\n",
      "2811559 45672.0\n",
      "1 1578147.0\n",
      "65536 24623.0\n",
      "22 2544858.0\n",
      "111 487353.0\n",
      "2 369423816.0\n",
      "112 68396.0\n",
      "65537 83.0\n",
      "11 107524.0\n",
      "67101704 1833174.0\n",
      "1833360 67101704.0\n",
      "22 22673.0\n",
      "1 4801301.0\n",
      "14 704722.0\n",
      "4 206758.0\n",
      "2 850518.0\n",
      "5 3597248.0\n",
      "12 285863.0\n",
      "3 12265276.0\n"
     ]
    },
    {
     "data": {
      "text/html": [
       "<div>\n",
       "<style scoped>\n",
       "    .dataframe tbody tr th:only-of-type {\n",
       "        vertical-align: middle;\n",
       "    }\n",
       "\n",
       "    .dataframe tbody tr th {\n",
       "        vertical-align: top;\n",
       "    }\n",
       "\n",
       "    .dataframe thead th {\n",
       "        text-align: right;\n",
       "    }\n",
       "</style>\n",
       "<table border=\"1\" class=\"dataframe\">\n",
       "  <thead>\n",
       "    <tr style=\"text-align: right;\">\n",
       "      <th></th>\n",
       "      <th>c_a</th>\n",
       "      <th>unit</th>\n",
       "      <th>scp</th>\n",
       "      <th>station</th>\n",
       "      <th>date_time</th>\n",
       "      <th>exits</th>\n",
       "      <th>entries</th>\n",
       "      <th>prev_datetime</th>\n",
       "      <th>prev_entries</th>\n",
       "      <th>prev_exits</th>\n",
       "      <th>delta_entries</th>\n",
       "      <th>delta_exits</th>\n",
       "    </tr>\n",
       "  </thead>\n",
       "  <tbody>\n",
       "    <tr>\n",
       "      <th>1</th>\n",
       "      <td>A002</td>\n",
       "      <td>R051</td>\n",
       "      <td>02-00-00</td>\n",
       "      <td>59 ST</td>\n",
       "      <td>2020-06-06 04:00:00</td>\n",
       "      <td>2521130</td>\n",
       "      <td>7420920</td>\n",
       "      <td>2020-06-06 00:00:00</td>\n",
       "      <td>7420920.0</td>\n",
       "      <td>2521129.0</td>\n",
       "      <td>0.0</td>\n",
       "      <td>1.0</td>\n",
       "    </tr>\n",
       "    <tr>\n",
       "      <th>2</th>\n",
       "      <td>A002</td>\n",
       "      <td>R051</td>\n",
       "      <td>02-00-00</td>\n",
       "      <td>59 ST</td>\n",
       "      <td>2020-06-06 08:00:00</td>\n",
       "      <td>2521141</td>\n",
       "      <td>7420928</td>\n",
       "      <td>2020-06-06 04:00:00</td>\n",
       "      <td>7420920.0</td>\n",
       "      <td>2521130.0</td>\n",
       "      <td>8.0</td>\n",
       "      <td>11.0</td>\n",
       "    </tr>\n",
       "    <tr>\n",
       "      <th>3</th>\n",
       "      <td>A002</td>\n",
       "      <td>R051</td>\n",
       "      <td>02-00-00</td>\n",
       "      <td>59 ST</td>\n",
       "      <td>2020-06-06 12:00:00</td>\n",
       "      <td>2521163</td>\n",
       "      <td>7420941</td>\n",
       "      <td>2020-06-06 08:00:00</td>\n",
       "      <td>7420928.0</td>\n",
       "      <td>2521141.0</td>\n",
       "      <td>13.0</td>\n",
       "      <td>22.0</td>\n",
       "    </tr>\n",
       "    <tr>\n",
       "      <th>4</th>\n",
       "      <td>A002</td>\n",
       "      <td>R051</td>\n",
       "      <td>02-00-00</td>\n",
       "      <td>59 ST</td>\n",
       "      <td>2020-06-06 16:00:00</td>\n",
       "      <td>2521174</td>\n",
       "      <td>7420972</td>\n",
       "      <td>2020-06-06 12:00:00</td>\n",
       "      <td>7420941.0</td>\n",
       "      <td>2521163.0</td>\n",
       "      <td>31.0</td>\n",
       "      <td>11.0</td>\n",
       "    </tr>\n",
       "    <tr>\n",
       "      <th>5</th>\n",
       "      <td>A002</td>\n",
       "      <td>R051</td>\n",
       "      <td>02-00-00</td>\n",
       "      <td>59 ST</td>\n",
       "      <td>2020-06-06 20:00:00</td>\n",
       "      <td>2521184</td>\n",
       "      <td>7421007</td>\n",
       "      <td>2020-06-06 16:00:00</td>\n",
       "      <td>7420972.0</td>\n",
       "      <td>2521174.0</td>\n",
       "      <td>35.0</td>\n",
       "      <td>10.0</td>\n",
       "    </tr>\n",
       "    <tr>\n",
       "      <th>...</th>\n",
       "      <td>...</td>\n",
       "      <td>...</td>\n",
       "      <td>...</td>\n",
       "      <td>...</td>\n",
       "      <td>...</td>\n",
       "      <td>...</td>\n",
       "      <td>...</td>\n",
       "      <td>...</td>\n",
       "      <td>...</td>\n",
       "      <td>...</td>\n",
       "      <td>...</td>\n",
       "      <td>...</td>\n",
       "    </tr>\n",
       "    <tr>\n",
       "      <th>568169</th>\n",
       "      <td>TRAM2</td>\n",
       "      <td>R469</td>\n",
       "      <td>00-05-01</td>\n",
       "      <td>RIT-ROOSEVELT</td>\n",
       "      <td>2020-06-26 05:00:00</td>\n",
       "      <td>514</td>\n",
       "      <td>5554</td>\n",
       "      <td>2020-06-26 01:00:00</td>\n",
       "      <td>5554.0</td>\n",
       "      <td>514.0</td>\n",
       "      <td>0.0</td>\n",
       "      <td>0.0</td>\n",
       "    </tr>\n",
       "    <tr>\n",
       "      <th>568170</th>\n",
       "      <td>TRAM2</td>\n",
       "      <td>R469</td>\n",
       "      <td>00-05-01</td>\n",
       "      <td>RIT-ROOSEVELT</td>\n",
       "      <td>2020-06-26 09:00:00</td>\n",
       "      <td>514</td>\n",
       "      <td>5554</td>\n",
       "      <td>2020-06-26 05:00:00</td>\n",
       "      <td>5554.0</td>\n",
       "      <td>514.0</td>\n",
       "      <td>0.0</td>\n",
       "      <td>0.0</td>\n",
       "    </tr>\n",
       "    <tr>\n",
       "      <th>568171</th>\n",
       "      <td>TRAM2</td>\n",
       "      <td>R469</td>\n",
       "      <td>00-05-01</td>\n",
       "      <td>RIT-ROOSEVELT</td>\n",
       "      <td>2020-06-26 13:00:00</td>\n",
       "      <td>514</td>\n",
       "      <td>5554</td>\n",
       "      <td>2020-06-26 09:00:00</td>\n",
       "      <td>5554.0</td>\n",
       "      <td>514.0</td>\n",
       "      <td>0.0</td>\n",
       "      <td>0.0</td>\n",
       "    </tr>\n",
       "    <tr>\n",
       "      <th>568172</th>\n",
       "      <td>TRAM2</td>\n",
       "      <td>R469</td>\n",
       "      <td>00-05-01</td>\n",
       "      <td>RIT-ROOSEVELT</td>\n",
       "      <td>2020-06-26 17:00:00</td>\n",
       "      <td>514</td>\n",
       "      <td>5554</td>\n",
       "      <td>2020-06-26 13:00:00</td>\n",
       "      <td>5554.0</td>\n",
       "      <td>514.0</td>\n",
       "      <td>0.0</td>\n",
       "      <td>0.0</td>\n",
       "    </tr>\n",
       "    <tr>\n",
       "      <th>568173</th>\n",
       "      <td>TRAM2</td>\n",
       "      <td>R469</td>\n",
       "      <td>00-05-01</td>\n",
       "      <td>RIT-ROOSEVELT</td>\n",
       "      <td>2020-06-26 21:00:00</td>\n",
       "      <td>514</td>\n",
       "      <td>5554</td>\n",
       "      <td>2020-06-26 17:00:00</td>\n",
       "      <td>5554.0</td>\n",
       "      <td>514.0</td>\n",
       "      <td>0.0</td>\n",
       "      <td>0.0</td>\n",
       "    </tr>\n",
       "  </tbody>\n",
       "</table>\n",
       "<p>563624 rows × 12 columns</p>\n",
       "</div>"
      ],
      "text/plain": [
       "          c_a  unit       scp        station           date_time    exits  \\\n",
       "1        A002  R051  02-00-00          59 ST 2020-06-06 04:00:00  2521130   \n",
       "2        A002  R051  02-00-00          59 ST 2020-06-06 08:00:00  2521141   \n",
       "3        A002  R051  02-00-00          59 ST 2020-06-06 12:00:00  2521163   \n",
       "4        A002  R051  02-00-00          59 ST 2020-06-06 16:00:00  2521174   \n",
       "5        A002  R051  02-00-00          59 ST 2020-06-06 20:00:00  2521184   \n",
       "...       ...   ...       ...            ...                 ...      ...   \n",
       "568169  TRAM2  R469  00-05-01  RIT-ROOSEVELT 2020-06-26 05:00:00      514   \n",
       "568170  TRAM2  R469  00-05-01  RIT-ROOSEVELT 2020-06-26 09:00:00      514   \n",
       "568171  TRAM2  R469  00-05-01  RIT-ROOSEVELT 2020-06-26 13:00:00      514   \n",
       "568172  TRAM2  R469  00-05-01  RIT-ROOSEVELT 2020-06-26 17:00:00      514   \n",
       "568173  TRAM2  R469  00-05-01  RIT-ROOSEVELT 2020-06-26 21:00:00      514   \n",
       "\n",
       "        entries       prev_datetime  prev_entries  prev_exits  delta_entries  \\\n",
       "1       7420920 2020-06-06 00:00:00     7420920.0   2521129.0            0.0   \n",
       "2       7420928 2020-06-06 04:00:00     7420920.0   2521130.0            8.0   \n",
       "3       7420941 2020-06-06 08:00:00     7420928.0   2521141.0           13.0   \n",
       "4       7420972 2020-06-06 12:00:00     7420941.0   2521163.0           31.0   \n",
       "5       7421007 2020-06-06 16:00:00     7420972.0   2521174.0           35.0   \n",
       "...         ...                 ...           ...         ...            ...   \n",
       "568169     5554 2020-06-26 01:00:00        5554.0       514.0            0.0   \n",
       "568170     5554 2020-06-26 05:00:00        5554.0       514.0            0.0   \n",
       "568171     5554 2020-06-26 09:00:00        5554.0       514.0            0.0   \n",
       "568172     5554 2020-06-26 13:00:00        5554.0       514.0            0.0   \n",
       "568173     5554 2020-06-26 17:00:00        5554.0       514.0            0.0   \n",
       "\n",
       "        delta_exits  \n",
       "1               1.0  \n",
       "2              11.0  \n",
       "3              22.0  \n",
       "4              11.0  \n",
       "5              10.0  \n",
       "...             ...  \n",
       "568169          0.0  \n",
       "568170          0.0  \n",
       "568171          0.0  \n",
       "568172          0.0  \n",
       "568173          0.0  \n",
       "\n",
       "[563624 rows x 12 columns]"
      ]
     },
     "execution_count": 117,
     "metadata": {},
     "output_type": "execute_result"
    }
   ],
   "source": [
    "turnstiles_block['delta_exits'] = turnstiles_block.apply(get_counts_exit, axis=1, max_counter=15000)\n",
    "turnstiles_block"
   ]
  },
  {
   "cell_type": "code",
   "execution_count": 118,
   "metadata": {
    "ExecuteTime": {
     "end_time": "2020-07-04T00:44:47.408402Z",
     "start_time": "2020-07-04T00:44:47.405856Z"
    }
   },
   "outputs": [],
   "source": [
    "# mf = turnstiles_block.groupby(['unit', 'station', 'date_time',]).agg({'delta_exits': 'sum'}).reset_index()\n",
    "# mf[:50]"
   ]
  },
  {
   "cell_type": "code",
   "execution_count": 119,
   "metadata": {
    "ExecuteTime": {
     "end_time": "2020-07-04T00:44:47.412521Z",
     "start_time": "2020-07-04T00:44:47.410704Z"
    }
   },
   "outputs": [],
   "source": [
    "\n",
    "\n",
    "\n",
    "# top10 = (mf.sort_values(by='delta_exits',ascending=False).station.head(10))\n",
    "# #pd.DataFrame(top10)\n",
    "# top10"
   ]
  },
  {
   "cell_type": "code",
   "execution_count": 120,
   "metadata": {
    "ExecuteTime": {
     "end_time": "2020-07-04T00:44:47.535176Z",
     "start_time": "2020-07-04T00:44:47.414346Z"
    }
   },
   "outputs": [],
   "source": [
    "#unit vs Station name\n",
    "#station complexes vs units vs sationts?\n",
    "\n",
    "unit_hourly = (turnstiles_block.groupby(['unit','station','date_time'])['delta_exits'].sum().reset_index())"
   ]
  },
  {
   "cell_type": "code",
   "execution_count": 121,
   "metadata": {
    "ExecuteTime": {
     "end_time": "2020-07-04T00:44:47.555633Z",
     "start_time": "2020-07-04T00:44:47.537818Z"
    },
    "scrolled": true
   },
   "outputs": [
    {
     "data": {
      "text/html": [
       "<div>\n",
       "<style scoped>\n",
       "    .dataframe tbody tr th:only-of-type {\n",
       "        vertical-align: middle;\n",
       "    }\n",
       "\n",
       "    .dataframe tbody tr th {\n",
       "        vertical-align: top;\n",
       "    }\n",
       "\n",
       "    .dataframe thead th {\n",
       "        text-align: right;\n",
       "    }\n",
       "</style>\n",
       "<table border=\"1\" class=\"dataframe\">\n",
       "  <thead>\n",
       "    <tr style=\"text-align: right;\">\n",
       "      <th></th>\n",
       "      <th>unit</th>\n",
       "      <th>station</th>\n",
       "      <th>date_time</th>\n",
       "      <th>delta_exits</th>\n",
       "    </tr>\n",
       "  </thead>\n",
       "  <tbody>\n",
       "    <tr>\n",
       "      <th>0</th>\n",
       "      <td>R001</td>\n",
       "      <td>SOUTH FERRY</td>\n",
       "      <td>2020-06-06 05:00:00</td>\n",
       "      <td>35.0</td>\n",
       "    </tr>\n",
       "    <tr>\n",
       "      <th>1</th>\n",
       "      <td>R001</td>\n",
       "      <td>SOUTH FERRY</td>\n",
       "      <td>2020-06-06 09:00:00</td>\n",
       "      <td>136.0</td>\n",
       "    </tr>\n",
       "    <tr>\n",
       "      <th>2</th>\n",
       "      <td>R001</td>\n",
       "      <td>SOUTH FERRY</td>\n",
       "      <td>2020-06-06 13:00:00</td>\n",
       "      <td>187.0</td>\n",
       "    </tr>\n",
       "    <tr>\n",
       "      <th>3</th>\n",
       "      <td>R001</td>\n",
       "      <td>SOUTH FERRY</td>\n",
       "      <td>2020-06-06 17:00:00</td>\n",
       "      <td>240.0</td>\n",
       "    </tr>\n",
       "    <tr>\n",
       "      <th>4</th>\n",
       "      <td>R001</td>\n",
       "      <td>SOUTH FERRY</td>\n",
       "      <td>2020-06-06 21:00:00</td>\n",
       "      <td>191.0</td>\n",
       "    </tr>\n",
       "    <tr>\n",
       "      <th>5</th>\n",
       "      <td>R001</td>\n",
       "      <td>SOUTH FERRY</td>\n",
       "      <td>2020-06-07 01:00:00</td>\n",
       "      <td>130.0</td>\n",
       "    </tr>\n",
       "    <tr>\n",
       "      <th>6</th>\n",
       "      <td>R001</td>\n",
       "      <td>SOUTH FERRY</td>\n",
       "      <td>2020-06-07 05:00:00</td>\n",
       "      <td>52.0</td>\n",
       "    </tr>\n",
       "    <tr>\n",
       "      <th>7</th>\n",
       "      <td>R001</td>\n",
       "      <td>SOUTH FERRY</td>\n",
       "      <td>2020-06-07 09:00:00</td>\n",
       "      <td>104.0</td>\n",
       "    </tr>\n",
       "    <tr>\n",
       "      <th>8</th>\n",
       "      <td>R001</td>\n",
       "      <td>SOUTH FERRY</td>\n",
       "      <td>2020-06-07 13:00:00</td>\n",
       "      <td>159.0</td>\n",
       "    </tr>\n",
       "    <tr>\n",
       "      <th>9</th>\n",
       "      <td>R001</td>\n",
       "      <td>SOUTH FERRY</td>\n",
       "      <td>2020-06-07 17:00:00</td>\n",
       "      <td>237.0</td>\n",
       "    </tr>\n",
       "    <tr>\n",
       "      <th>10</th>\n",
       "      <td>R001</td>\n",
       "      <td>SOUTH FERRY</td>\n",
       "      <td>2020-06-07 21:00:00</td>\n",
       "      <td>207.0</td>\n",
       "    </tr>\n",
       "    <tr>\n",
       "      <th>11</th>\n",
       "      <td>R001</td>\n",
       "      <td>SOUTH FERRY</td>\n",
       "      <td>2020-06-08 01:00:00</td>\n",
       "      <td>20.0</td>\n",
       "    </tr>\n",
       "    <tr>\n",
       "      <th>12</th>\n",
       "      <td>R001</td>\n",
       "      <td>SOUTH FERRY</td>\n",
       "      <td>2020-06-08 05:00:00</td>\n",
       "      <td>124.0</td>\n",
       "    </tr>\n",
       "    <tr>\n",
       "      <th>13</th>\n",
       "      <td>R001</td>\n",
       "      <td>SOUTH FERRY</td>\n",
       "      <td>2020-06-08 09:00:00</td>\n",
       "      <td>185.0</td>\n",
       "    </tr>\n",
       "    <tr>\n",
       "      <th>14</th>\n",
       "      <td>R001</td>\n",
       "      <td>SOUTH FERRY</td>\n",
       "      <td>2020-06-08 13:00:00</td>\n",
       "      <td>274.0</td>\n",
       "    </tr>\n",
       "    <tr>\n",
       "      <th>15</th>\n",
       "      <td>R001</td>\n",
       "      <td>SOUTH FERRY</td>\n",
       "      <td>2020-06-08 17:00:00</td>\n",
       "      <td>482.0</td>\n",
       "    </tr>\n",
       "    <tr>\n",
       "      <th>16</th>\n",
       "      <td>R001</td>\n",
       "      <td>SOUTH FERRY</td>\n",
       "      <td>2020-06-08 21:00:00</td>\n",
       "      <td>361.0</td>\n",
       "    </tr>\n",
       "    <tr>\n",
       "      <th>17</th>\n",
       "      <td>R001</td>\n",
       "      <td>SOUTH FERRY</td>\n",
       "      <td>2020-06-09 01:00:00</td>\n",
       "      <td>151.0</td>\n",
       "    </tr>\n",
       "    <tr>\n",
       "      <th>18</th>\n",
       "      <td>R001</td>\n",
       "      <td>SOUTH FERRY</td>\n",
       "      <td>2020-06-09 05:00:00</td>\n",
       "      <td>81.0</td>\n",
       "    </tr>\n",
       "    <tr>\n",
       "      <th>19</th>\n",
       "      <td>R001</td>\n",
       "      <td>SOUTH FERRY</td>\n",
       "      <td>2020-06-09 09:00:00</td>\n",
       "      <td>215.0</td>\n",
       "    </tr>\n",
       "    <tr>\n",
       "      <th>20</th>\n",
       "      <td>R001</td>\n",
       "      <td>SOUTH FERRY</td>\n",
       "      <td>2020-06-09 13:00:00</td>\n",
       "      <td>240.0</td>\n",
       "    </tr>\n",
       "    <tr>\n",
       "      <th>21</th>\n",
       "      <td>R001</td>\n",
       "      <td>SOUTH FERRY</td>\n",
       "      <td>2020-06-09 17:00:00</td>\n",
       "      <td>487.0</td>\n",
       "    </tr>\n",
       "    <tr>\n",
       "      <th>22</th>\n",
       "      <td>R001</td>\n",
       "      <td>SOUTH FERRY</td>\n",
       "      <td>2020-06-09 21:00:00</td>\n",
       "      <td>331.0</td>\n",
       "    </tr>\n",
       "    <tr>\n",
       "      <th>23</th>\n",
       "      <td>R001</td>\n",
       "      <td>SOUTH FERRY</td>\n",
       "      <td>2020-06-10 01:00:00</td>\n",
       "      <td>159.0</td>\n",
       "    </tr>\n",
       "    <tr>\n",
       "      <th>24</th>\n",
       "      <td>R001</td>\n",
       "      <td>SOUTH FERRY</td>\n",
       "      <td>2020-06-10 05:00:00</td>\n",
       "      <td>52.0</td>\n",
       "    </tr>\n",
       "    <tr>\n",
       "      <th>25</th>\n",
       "      <td>R001</td>\n",
       "      <td>SOUTH FERRY</td>\n",
       "      <td>2020-06-10 09:00:00</td>\n",
       "      <td>244.0</td>\n",
       "    </tr>\n",
       "    <tr>\n",
       "      <th>26</th>\n",
       "      <td>R001</td>\n",
       "      <td>SOUTH FERRY</td>\n",
       "      <td>2020-06-10 13:00:00</td>\n",
       "      <td>222.0</td>\n",
       "    </tr>\n",
       "    <tr>\n",
       "      <th>27</th>\n",
       "      <td>R001</td>\n",
       "      <td>SOUTH FERRY</td>\n",
       "      <td>2020-06-10 17:00:00</td>\n",
       "      <td>491.0</td>\n",
       "    </tr>\n",
       "    <tr>\n",
       "      <th>28</th>\n",
       "      <td>R001</td>\n",
       "      <td>SOUTH FERRY</td>\n",
       "      <td>2020-06-10 21:00:00</td>\n",
       "      <td>357.0</td>\n",
       "    </tr>\n",
       "    <tr>\n",
       "      <th>29</th>\n",
       "      <td>R001</td>\n",
       "      <td>SOUTH FERRY</td>\n",
       "      <td>2020-06-11 01:00:00</td>\n",
       "      <td>194.0</td>\n",
       "    </tr>\n",
       "    <tr>\n",
       "      <th>30</th>\n",
       "      <td>R001</td>\n",
       "      <td>SOUTH FERRY</td>\n",
       "      <td>2020-06-11 05:00:00</td>\n",
       "      <td>69.0</td>\n",
       "    </tr>\n",
       "    <tr>\n",
       "      <th>31</th>\n",
       "      <td>R001</td>\n",
       "      <td>SOUTH FERRY</td>\n",
       "      <td>2020-06-11 09:00:00</td>\n",
       "      <td>229.0</td>\n",
       "    </tr>\n",
       "    <tr>\n",
       "      <th>32</th>\n",
       "      <td>R001</td>\n",
       "      <td>SOUTH FERRY</td>\n",
       "      <td>2020-06-11 13:00:00</td>\n",
       "      <td>224.0</td>\n",
       "    </tr>\n",
       "    <tr>\n",
       "      <th>33</th>\n",
       "      <td>R001</td>\n",
       "      <td>SOUTH FERRY</td>\n",
       "      <td>2020-06-11 17:00:00</td>\n",
       "      <td>479.0</td>\n",
       "    </tr>\n",
       "    <tr>\n",
       "      <th>34</th>\n",
       "      <td>R001</td>\n",
       "      <td>SOUTH FERRY</td>\n",
       "      <td>2020-06-11 21:00:00</td>\n",
       "      <td>331.0</td>\n",
       "    </tr>\n",
       "    <tr>\n",
       "      <th>35</th>\n",
       "      <td>R001</td>\n",
       "      <td>SOUTH FERRY</td>\n",
       "      <td>2020-06-12 01:00:00</td>\n",
       "      <td>181.0</td>\n",
       "    </tr>\n",
       "    <tr>\n",
       "      <th>36</th>\n",
       "      <td>R001</td>\n",
       "      <td>SOUTH FERRY</td>\n",
       "      <td>2020-06-12 05:00:00</td>\n",
       "      <td>59.0</td>\n",
       "    </tr>\n",
       "    <tr>\n",
       "      <th>37</th>\n",
       "      <td>R001</td>\n",
       "      <td>SOUTH FERRY</td>\n",
       "      <td>2020-06-12 09:00:00</td>\n",
       "      <td>235.0</td>\n",
       "    </tr>\n",
       "    <tr>\n",
       "      <th>38</th>\n",
       "      <td>R001</td>\n",
       "      <td>SOUTH FERRY</td>\n",
       "      <td>2020-06-12 13:00:00</td>\n",
       "      <td>264.0</td>\n",
       "    </tr>\n",
       "    <tr>\n",
       "      <th>39</th>\n",
       "      <td>R001</td>\n",
       "      <td>SOUTH FERRY</td>\n",
       "      <td>2020-06-12 17:00:00</td>\n",
       "      <td>498.0</td>\n",
       "    </tr>\n",
       "    <tr>\n",
       "      <th>40</th>\n",
       "      <td>R001</td>\n",
       "      <td>SOUTH FERRY</td>\n",
       "      <td>2020-06-12 21:00:00</td>\n",
       "      <td>341.0</td>\n",
       "    </tr>\n",
       "    <tr>\n",
       "      <th>41</th>\n",
       "      <td>R001</td>\n",
       "      <td>SOUTH FERRY</td>\n",
       "      <td>2020-06-13 01:00:00</td>\n",
       "      <td>208.0</td>\n",
       "    </tr>\n",
       "    <tr>\n",
       "      <th>42</th>\n",
       "      <td>R001</td>\n",
       "      <td>SOUTH FERRY</td>\n",
       "      <td>2020-06-13 05:00:00</td>\n",
       "      <td>39.0</td>\n",
       "    </tr>\n",
       "    <tr>\n",
       "      <th>43</th>\n",
       "      <td>R001</td>\n",
       "      <td>SOUTH FERRY</td>\n",
       "      <td>2020-06-13 09:00:00</td>\n",
       "      <td>157.0</td>\n",
       "    </tr>\n",
       "    <tr>\n",
       "      <th>44</th>\n",
       "      <td>R001</td>\n",
       "      <td>SOUTH FERRY</td>\n",
       "      <td>2020-06-13 13:00:00</td>\n",
       "      <td>211.0</td>\n",
       "    </tr>\n",
       "    <tr>\n",
       "      <th>45</th>\n",
       "      <td>R001</td>\n",
       "      <td>SOUTH FERRY</td>\n",
       "      <td>2020-06-13 17:00:00</td>\n",
       "      <td>291.0</td>\n",
       "    </tr>\n",
       "    <tr>\n",
       "      <th>46</th>\n",
       "      <td>R001</td>\n",
       "      <td>SOUTH FERRY</td>\n",
       "      <td>2020-06-13 21:00:00</td>\n",
       "      <td>251.0</td>\n",
       "    </tr>\n",
       "    <tr>\n",
       "      <th>47</th>\n",
       "      <td>R001</td>\n",
       "      <td>SOUTH FERRY</td>\n",
       "      <td>2020-06-14 01:00:00</td>\n",
       "      <td>174.0</td>\n",
       "    </tr>\n",
       "    <tr>\n",
       "      <th>48</th>\n",
       "      <td>R001</td>\n",
       "      <td>SOUTH FERRY</td>\n",
       "      <td>2020-06-14 05:00:00</td>\n",
       "      <td>55.0</td>\n",
       "    </tr>\n",
       "    <tr>\n",
       "      <th>49</th>\n",
       "      <td>R001</td>\n",
       "      <td>SOUTH FERRY</td>\n",
       "      <td>2020-06-14 09:00:00</td>\n",
       "      <td>110.0</td>\n",
       "    </tr>\n",
       "  </tbody>\n",
       "</table>\n",
       "</div>"
      ],
      "text/plain": [
       "    unit      station           date_time  delta_exits\n",
       "0   R001  SOUTH FERRY 2020-06-06 05:00:00         35.0\n",
       "1   R001  SOUTH FERRY 2020-06-06 09:00:00        136.0\n",
       "2   R001  SOUTH FERRY 2020-06-06 13:00:00        187.0\n",
       "3   R001  SOUTH FERRY 2020-06-06 17:00:00        240.0\n",
       "4   R001  SOUTH FERRY 2020-06-06 21:00:00        191.0\n",
       "5   R001  SOUTH FERRY 2020-06-07 01:00:00        130.0\n",
       "6   R001  SOUTH FERRY 2020-06-07 05:00:00         52.0\n",
       "7   R001  SOUTH FERRY 2020-06-07 09:00:00        104.0\n",
       "8   R001  SOUTH FERRY 2020-06-07 13:00:00        159.0\n",
       "9   R001  SOUTH FERRY 2020-06-07 17:00:00        237.0\n",
       "10  R001  SOUTH FERRY 2020-06-07 21:00:00        207.0\n",
       "11  R001  SOUTH FERRY 2020-06-08 01:00:00         20.0\n",
       "12  R001  SOUTH FERRY 2020-06-08 05:00:00        124.0\n",
       "13  R001  SOUTH FERRY 2020-06-08 09:00:00        185.0\n",
       "14  R001  SOUTH FERRY 2020-06-08 13:00:00        274.0\n",
       "15  R001  SOUTH FERRY 2020-06-08 17:00:00        482.0\n",
       "16  R001  SOUTH FERRY 2020-06-08 21:00:00        361.0\n",
       "17  R001  SOUTH FERRY 2020-06-09 01:00:00        151.0\n",
       "18  R001  SOUTH FERRY 2020-06-09 05:00:00         81.0\n",
       "19  R001  SOUTH FERRY 2020-06-09 09:00:00        215.0\n",
       "20  R001  SOUTH FERRY 2020-06-09 13:00:00        240.0\n",
       "21  R001  SOUTH FERRY 2020-06-09 17:00:00        487.0\n",
       "22  R001  SOUTH FERRY 2020-06-09 21:00:00        331.0\n",
       "23  R001  SOUTH FERRY 2020-06-10 01:00:00        159.0\n",
       "24  R001  SOUTH FERRY 2020-06-10 05:00:00         52.0\n",
       "25  R001  SOUTH FERRY 2020-06-10 09:00:00        244.0\n",
       "26  R001  SOUTH FERRY 2020-06-10 13:00:00        222.0\n",
       "27  R001  SOUTH FERRY 2020-06-10 17:00:00        491.0\n",
       "28  R001  SOUTH FERRY 2020-06-10 21:00:00        357.0\n",
       "29  R001  SOUTH FERRY 2020-06-11 01:00:00        194.0\n",
       "30  R001  SOUTH FERRY 2020-06-11 05:00:00         69.0\n",
       "31  R001  SOUTH FERRY 2020-06-11 09:00:00        229.0\n",
       "32  R001  SOUTH FERRY 2020-06-11 13:00:00        224.0\n",
       "33  R001  SOUTH FERRY 2020-06-11 17:00:00        479.0\n",
       "34  R001  SOUTH FERRY 2020-06-11 21:00:00        331.0\n",
       "35  R001  SOUTH FERRY 2020-06-12 01:00:00        181.0\n",
       "36  R001  SOUTH FERRY 2020-06-12 05:00:00         59.0\n",
       "37  R001  SOUTH FERRY 2020-06-12 09:00:00        235.0\n",
       "38  R001  SOUTH FERRY 2020-06-12 13:00:00        264.0\n",
       "39  R001  SOUTH FERRY 2020-06-12 17:00:00        498.0\n",
       "40  R001  SOUTH FERRY 2020-06-12 21:00:00        341.0\n",
       "41  R001  SOUTH FERRY 2020-06-13 01:00:00        208.0\n",
       "42  R001  SOUTH FERRY 2020-06-13 05:00:00         39.0\n",
       "43  R001  SOUTH FERRY 2020-06-13 09:00:00        157.0\n",
       "44  R001  SOUTH FERRY 2020-06-13 13:00:00        211.0\n",
       "45  R001  SOUTH FERRY 2020-06-13 17:00:00        291.0\n",
       "46  R001  SOUTH FERRY 2020-06-13 21:00:00        251.0\n",
       "47  R001  SOUTH FERRY 2020-06-14 01:00:00        174.0\n",
       "48  R001  SOUTH FERRY 2020-06-14 05:00:00         55.0\n",
       "49  R001  SOUTH FERRY 2020-06-14 09:00:00        110.0"
      ]
     },
     "execution_count": 121,
     "metadata": {},
     "output_type": "execute_result"
    }
   ],
   "source": [
    "unit_hourly[:50]"
   ]
  },
  {
   "cell_type": "code",
   "execution_count": 122,
   "metadata": {
    "ExecuteTime": {
     "end_time": "2020-07-04T00:44:47.598324Z",
     "start_time": "2020-07-04T00:44:47.557822Z"
    }
   },
   "outputs": [],
   "source": [
    "top = unit_hourly.groupby(['unit', 'date_time'])['delta_exits'].sum().reset_index()\n",
    "\n",
    "        \n",
    "\n",
    "top10 = (top.sort_values(by=['delta_exits'],ascending=False)\n",
    "        .unit.head(100))"
   ]
  },
  {
   "cell_type": "code",
   "execution_count": 123,
   "metadata": {
    "ExecuteTime": {
     "end_time": "2020-07-04T00:44:47.605605Z",
     "start_time": "2020-07-04T00:44:47.600184Z"
    }
   },
   "outputs": [
    {
     "data": {
      "text/plain": [
       "array(['R170', 'R102', 'R055', 'R018', 'R011', 'R020', 'R097', 'R025',\n",
       "       'R024', 'R022'], dtype=object)"
      ]
     },
     "execution_count": 123,
     "metadata": {},
     "output_type": "execute_result"
    }
   ],
   "source": [
    "top10units = top10.unique()[:10]\n",
    "top10units"
   ]
  },
  {
   "cell_type": "code",
   "execution_count": 124,
   "metadata": {
    "ExecuteTime": {
     "end_time": "2020-07-04T00:44:47.613337Z",
     "start_time": "2020-07-04T00:44:47.609739Z"
    }
   },
   "outputs": [
    {
     "data": {
      "text/plain": [
       "array(['R170', 'R102', 'R055', 'R018', 'R011'], dtype=object)"
      ]
     },
     "execution_count": 124,
     "metadata": {},
     "output_type": "execute_result"
    }
   ],
   "source": [
    "top5units = top10.unique()[:5]\n",
    "top5units"
   ]
  },
  {
   "cell_type": "code",
   "execution_count": 125,
   "metadata": {
    "ExecuteTime": {
     "end_time": "2020-07-04T00:44:47.620812Z",
     "start_time": "2020-07-04T00:44:47.615450Z"
    }
   },
   "outputs": [
    {
     "data": {
      "text/plain": [
       "19924    R170\n",
       "11489    R102\n",
       "19930    R170\n",
       "19916    R170\n",
       "19928    R170\n",
       "         ... \n",
       "2293     R020\n",
       "19845    R170\n",
       "2931     R025\n",
       "2003     R018\n",
       "6480     R055\n",
       "Name: unit, Length: 100, dtype: object"
      ]
     },
     "execution_count": 125,
     "metadata": {},
     "output_type": "execute_result"
    }
   ],
   "source": [
    "top10.head(100)"
   ]
  },
  {
   "cell_type": "code",
   "execution_count": 126,
   "metadata": {
    "ExecuteTime": {
     "end_time": "2020-07-04T00:44:47.632094Z",
     "start_time": "2020-07-04T00:44:47.623327Z"
    }
   },
   "outputs": [
    {
     "data": {
      "text/plain": [
       "unit                          R019\n",
       "date_time      2020-06-11 16:00:00\n",
       "delta_exits                    534\n",
       "Name: 2133, dtype: object"
      ]
     },
     "execution_count": 126,
     "metadata": {},
     "output_type": "execute_result"
    }
   ],
   "source": [
    "top.iloc[2133]"
   ]
  },
  {
   "cell_type": "code",
   "execution_count": 127,
   "metadata": {
    "ExecuteTime": {
     "end_time": "2020-07-04T00:44:47.646682Z",
     "start_time": "2020-07-04T00:44:47.634977Z"
    }
   },
   "outputs": [],
   "source": [
    "mask = (unit_hourly['unit'] == 'R001')\n",
    "sample_df = unit_hourly[mask].head(50)"
   ]
  },
  {
   "cell_type": "code",
   "execution_count": 128,
   "metadata": {
    "ExecuteTime": {
     "end_time": "2020-07-04T00:44:47.651821Z",
     "start_time": "2020-07-04T00:44:47.649335Z"
    }
   },
   "outputs": [],
   "source": [
    "import matplotlib.pyplot as plt\n",
    "import numpy as np\n",
    "import pandas as pd"
   ]
  },
  {
   "cell_type": "code",
   "execution_count": 141,
   "metadata": {
    "ExecuteTime": {
     "end_time": "2020-07-04T15:54:57.827956Z",
     "start_time": "2020-07-04T15:54:57.541145Z"
    }
   },
   "outputs": [
    {
     "data": {
      "text/plain": [
       "Text(98.5, 0.5, 'Traffic')"
      ]
     },
     "execution_count": 141,
     "metadata": {},
     "output_type": "execute_result"
    },
    {
     "data": {
      "image/png": "[encoded data removed]",
      "text/plain": [
       "<Figure size 1080x720 with 1 Axes>"
      ]
     },
     "metadata": {
      "needs_background": "light"
     },
     "output_type": "display_data"
    }
   ],
   "source": [
    "plt.figure(figsize=[15,10])\n",
    "plt.plot(sample_df.date_time, sample_df.delta_exits)\n",
    "\n",
    "for i in top5units:\n",
    "    mask = (unit_hourly['unit'] == i)\n",
    "    top5_df = unit_hourly[mask].head(50)\n",
    "\n",
    "    plt.plot(top5_df.date_time, top5_df.delta_exits, label = top5_df.station.iloc[0])\n",
    "plt.legend()\n",
    "\n",
    "plt.savefig('top5 stations traffic.png')\n",
    "\n",
    "plt.title('Traffic in the top 5 stations during COVID-19', fontsize=20, weight='bold',color='b')\n",
    "plt.xlabel('Date', fontsize=15, weight='bold',color='b')\n",
    "plt.ylabel('Traffic', fontsize=15, weight='bold',color='b')"
   ]
  },
  {
   "cell_type": "code",
   "execution_count": 130,
   "metadata": {
    "ExecuteTime": {
     "end_time": "2020-07-04T00:44:48.071827Z",
     "start_time": "2020-07-04T00:44:48.063403Z"
    }
   },
   "outputs": [
    {
     "ename": "SyntaxError",
     "evalue": "invalid syntax (<ipython-input-130-afb0777968e8>, line 9)",
     "output_type": "error",
     "traceback": [
      "\u001b[0;36m  File \u001b[0;32m\"<ipython-input-130-afb0777968e8>\"\u001b[0;36m, line \u001b[0;32m9\u001b[0m\n\u001b[0;31m    plt.legend()\u001b[0m\n\u001b[0m    ^\u001b[0m\n\u001b[0;31mSyntaxError\u001b[0m\u001b[0;31m:\u001b[0m invalid syntax\n"
     ]
    }
   ],
   "source": [
    "plt.figure(figsize=[15,10])\n",
    "plt.plot(sample_df.date_time, sample_df.delta_exits)\n",
    "\n",
    "for i in top10units:\n",
    "    mask = (unit_hourly['unit'] == i)\n",
    "    top5_df = unit_hourly[mask].head(50)\n",
    "\n",
    "    plt.plot(top5_df.date_time, top5_df.delta_exits, label = unit_hourly['unit' ==i]\n",
    "plt.legend()"
   ]
  },
  {
   "cell_type": "code",
   "execution_count": null,
   "metadata": {},
   "outputs": [],
   "source": []
  }
 ],
 "metadata": {
  "kernelspec": {
   "display_name": "Python 3",
   "language": "python",
   "name": "python3"
  },
  "language_info": {
   "codemirror_mode": {
    "name": "ipython",
    "version": 3
   },
   "file_extension": ".py",
   "mimetype": "text/x-python",
   "name": "python",
   "nbconvert_exporter": "python",
   "pygments_lexer": "ipython3",
   "version": "3.8.3"
  },
  "toc": {
   "base_numbering": 1,
   "nav_menu": {},
   "number_sections": true,
   "sideBar": true,
   "skip_h1_title": false,
   "title_cell": "Table of Contents",
   "title_sidebar": "Contents",
   "toc_cell": false,
   "toc_position": {},
   "toc_section_display": true,
   "toc_window_display": false
  },
  "varInspector": {
   "cols": {
    "lenName": 16,
    "lenType": 16,
    "lenVar": 40
   },
   "kernels_config": {
    "python": {
     "delete_cmd_postfix": "",
     "delete_cmd_prefix": "del ",
     "library": "var_list.py",
     "varRefreshCmd": "print(var_dic_list())"
    },
    "r": {
     "delete_cmd_postfix": ") ",
     "delete_cmd_prefix": "rm(",
     "library": "var_list.r",
     "varRefreshCmd": "cat(var_dic_list()) "
    }
   },
   "position": {
    "height": "485px",
    "left": "1519px",
    "right": "20px",
    "top": "116px",
    "width": "389px"
   },
   "types_to_exclude": [
    "module",
    "function",
    "builtin_function_or_method",
    "instance",
    "_Feature"
   ],
   "window_display": true
  }
 },
 "nbformat": 4,
 "nbformat_minor": 4
}

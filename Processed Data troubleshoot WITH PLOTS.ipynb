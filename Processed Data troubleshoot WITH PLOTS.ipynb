{
 "cells": [
  {
   "cell_type": "code",
   "execution_count": 111,
   "metadata": {
    "ExecuteTime": {
     "end_time": "2020-07-04T21:55:07.566232Z",
     "start_time": "2020-07-04T21:55:07.558877Z"
    }
   },
   "outputs": [],
   "source": [
    "import pandas as pd\n",
    "\n",
    "def clean(week_nums):\n",
    "    dfs = []\n",
    "    for week_num in week_nums:\n",
    "        url = \"http://web.mta.info/developers/data/nyct/turnstile/turnstile_{}.txt\"\n",
    "        file_url = url.format(week_num)\n",
    "        names = ['c_a', 'unit', 'scp', 'station', 'linename', 'division', \n",
    "                 'date', 'time', 'desc', 'entries', 'exits']\n",
    "        df = pd.read_csv(file_url, names=names, parse_dates=[['date','time']], \n",
    "                         keep_date_col=True, skiprows=1)\n",
    "        df['date'] = pd.to_datetime(df['date'])\n",
    "        df['day_of_week'] = df['date_time'].dt.day_name()\n",
    "        df = df[(~df['c_a'].str.contains('PTH') & \n",
    "                 ~df['desc'].str.contains('RECOVR') & \n",
    "                 df.time.astype(str).str.contains('00:00'))]\n",
    "        df = df[['station', 'unit', 'c_a', 'scp', 'date_time', 'date', 'day_of_week', 'time', \n",
    "                'desc', 'entries', 'exits']]\n",
    "        #delete duplicates -> could be done after dataframe creation instead of in this loop\n",
    "        df.sort_values(['c_a', 'unit', 'scp', 'station', 'date_time'], inplace=True, ascending=False)\n",
    "        df.drop_duplicates(subset=['c_a', 'unit', 'scp', 'station', 'date_time'], inplace=True)\n",
    "        dfs.append(df)\n",
    "        print(week_num)\n",
    "    return pd.concat(dfs)\n",
    "\n",
    "week_nums = [190622]"
   ]
  },
  {
   "cell_type": "code",
   "execution_count": 112,
   "metadata": {
    "ExecuteTime": {
     "end_time": "2020-07-04T21:55:13.590846Z",
     "start_time": "2020-07-04T21:55:08.237126Z"
    }
   },
   "outputs": [
    {
     "name": "stdout",
     "output_type": "stream",
     "text": [
      "190622\n"
     ]
    }
   ],
   "source": [
    "turnstiles_df = clean(week_nums)"
   ]
  },
  {
   "cell_type": "code",
   "execution_count": 113,
   "metadata": {
    "ExecuteTime": {
     "end_time": "2020-07-04T21:55:13.692827Z",
     "start_time": "2020-07-04T21:55:13.687897Z"
    }
   },
   "outputs": [
    {
     "data": {
      "text/plain": [
       "207476   2019-06-21\n",
       "207475   2019-06-21\n",
       "207474   2019-06-21\n",
       "207473   2019-06-21\n",
       "207472   2019-06-21\n",
       "            ...    \n",
       "4        2019-06-15\n",
       "3        2019-06-15\n",
       "2        2019-06-15\n",
       "1        2019-06-15\n",
       "0        2019-06-15\n",
       "Name: date, Length: 186476, dtype: datetime64[ns]"
      ]
     },
     "execution_count": 113,
     "metadata": {},
     "output_type": "execute_result"
    }
   ],
   "source": [
    "turnstiles_df.date\n"
   ]
  },
  {
   "cell_type": "code",
   "execution_count": 114,
   "metadata": {
    "ExecuteTime": {
     "end_time": "2020-07-04T21:55:16.561695Z",
     "start_time": "2020-07-04T21:55:13.786997Z"
    }
   },
   "outputs": [
    {
     "name": "stderr",
     "output_type": "stream",
     "text": [
      "<ipython-input-114-7112b57ef14a>:3: FutureWarning: Indexing with multiple keys (implicitly converted to a tuple of keys) will be deprecated, use a list instead.\n",
      "  turnstiles_block[[\"prev_datetime\", \"prev_entries\", \"prev_exits\"]] = (turnstiles_block\n"
     ]
    }
   ],
   "source": [
    "turnstiles_block = (turnstiles_df\n",
    "                        .groupby([\"c_a\", \"unit\", \"scp\", \"station\", \"date_time\", \"exits\"],as_index=False).entries.first())\n",
    "turnstiles_block[[\"prev_datetime\", \"prev_entries\", \"prev_exits\"]] = (turnstiles_block\n",
    "                                                       .groupby([\"c_a\", \"unit\", \"scp\", \"station\"])[\"date_time\", \"entries\", \"exits\"]\n",
    "                                                       .apply(lambda grp: grp.shift(1)))\n",
    "turnstiles_block.dropna(subset=[\"prev_datetime\"], axis=0, inplace=True)\n",
    "def get_counts_entry(row, max_counter):\n",
    "    counter = row[\"entries\"] - row[\"prev_entries\"]\n",
    "    if counter < 0:\n",
    "        # Maybe counter is reversed?\n",
    "        counter = -counter\n",
    "    if counter > max_counter:\n",
    "        # Maybe counter was reset to 0? \n",
    "        print(row[\"entries\"], row[\"prev_entries\"])\n",
    "        counter = min(row[\"entries\"], row[\"prev_entries\"])\n",
    "    if counter > max_counter:\n",
    "        # Check it again to make sure we're not still giving a counter that's too big\n",
    "        return 0\n",
    "    return counter\n",
    "def get_counts_exit(row, max_counter):\n",
    "    counter = row[\"exits\"] - row[\"prev_exits\"]\n",
    "    if counter < 0:\n",
    "        # Maybe counter is reversed?\n",
    "        counter = -counter\n",
    "    if counter > max_counter:\n",
    "        # Maybe counter was reset to 0? \n",
    "        print(row[\"exits\"], row[\"prev_exits\"])\n",
    "        counter = min(row[\"exits\"], row[\"prev_exits\"])\n",
    "    if counter > max_counter:\n",
    "        # Check it again to make sure we're not still giving a counter that's too big\n",
    "        return 0\n",
    "    return counter"
   ]
  },
  {
   "cell_type": "code",
   "execution_count": 115,
   "metadata": {
    "ExecuteTime": {
     "end_time": "2020-07-04T21:55:22.573478Z",
     "start_time": "2020-07-04T21:55:16.641445Z"
    }
   },
   "outputs": [
    {
     "name": "stdout",
     "output_type": "stream",
     "text": [
      "617 3125272.0\n",
      "147 127761.0\n",
      "65 3466273.0\n",
      "326 4676995.0\n",
      "607 621485465.0\n",
      "194 1427069.0\n",
      "1555 1560406.0\n",
      "881623600 1942742623.0\n",
      "88839683 1258666495.0\n",
      "704681341 2758772.0\n"
     ]
    }
   ],
   "source": [
    "turnstiles_block['delta_entries'] = turnstiles_block.apply(get_counts_entry, axis=1, max_counter=1e5)"
   ]
  },
  {
   "cell_type": "code",
   "execution_count": 130,
   "metadata": {
    "ExecuteTime": {
     "end_time": "2020-07-04T21:55:59.454164Z",
     "start_time": "2020-07-04T21:55:54.189907Z"
    }
   },
   "outputs": [
    {
     "name": "stdout",
     "output_type": "stream",
     "text": [
      "151 1663045.0\n",
      "114 9433893.0\n",
      "1158 7279490.0\n",
      "205 369533236.0\n",
      "34 736048.0\n",
      "658 918982.0\n",
      "105552595 1241950848.0\n",
      "123244243 1476890881.0\n",
      "1056969856 4193287.0\n"
     ]
    },
    {
     "data": {
      "text/html": [
       "<div>\n",
       "<style scoped>\n",
       "    .dataframe tbody tr th:only-of-type {\n",
       "        vertical-align: middle;\n",
       "    }\n",
       "\n",
       "    .dataframe tbody tr th {\n",
       "        vertical-align: top;\n",
       "    }\n",
       "\n",
       "    .dataframe thead th {\n",
       "        text-align: right;\n",
       "    }\n",
       "</style>\n",
       "<table border=\"1\" class=\"dataframe\">\n",
       "  <thead>\n",
       "    <tr style=\"text-align: right;\">\n",
       "      <th></th>\n",
       "      <th>c_a</th>\n",
       "      <th>unit</th>\n",
       "      <th>scp</th>\n",
       "      <th>station</th>\n",
       "      <th>date_time</th>\n",
       "      <th>exits</th>\n",
       "      <th>entries</th>\n",
       "      <th>prev_datetime</th>\n",
       "      <th>prev_entries</th>\n",
       "      <th>prev_exits</th>\n",
       "      <th>delta_entries</th>\n",
       "      <th>delta_exits</th>\n",
       "    </tr>\n",
       "  </thead>\n",
       "  <tbody>\n",
       "    <tr>\n",
       "      <th>1</th>\n",
       "      <td>A002</td>\n",
       "      <td>R051</td>\n",
       "      <td>02-00-00</td>\n",
       "      <td>59 ST</td>\n",
       "      <td>2019-06-15 04:00:00</td>\n",
       "      <td>2404650</td>\n",
       "      <td>7098758</td>\n",
       "      <td>2019-06-15 00:00:00</td>\n",
       "      <td>7098729.0</td>\n",
       "      <td>2404647.0</td>\n",
       "      <td>29.0</td>\n",
       "      <td>3.0</td>\n",
       "    </tr>\n",
       "    <tr>\n",
       "      <th>2</th>\n",
       "      <td>A002</td>\n",
       "      <td>R051</td>\n",
       "      <td>02-00-00</td>\n",
       "      <td>59 ST</td>\n",
       "      <td>2019-06-15 08:00:00</td>\n",
       "      <td>2404676</td>\n",
       "      <td>7098791</td>\n",
       "      <td>2019-06-15 04:00:00</td>\n",
       "      <td>7098758.0</td>\n",
       "      <td>2404650.0</td>\n",
       "      <td>33.0</td>\n",
       "      <td>26.0</td>\n",
       "    </tr>\n",
       "    <tr>\n",
       "      <th>3</th>\n",
       "      <td>A002</td>\n",
       "      <td>R051</td>\n",
       "      <td>02-00-00</td>\n",
       "      <td>59 ST</td>\n",
       "      <td>2019-06-15 12:00:00</td>\n",
       "      <td>2404763</td>\n",
       "      <td>7098890</td>\n",
       "      <td>2019-06-15 08:00:00</td>\n",
       "      <td>7098791.0</td>\n",
       "      <td>2404676.0</td>\n",
       "      <td>99.0</td>\n",
       "      <td>87.0</td>\n",
       "    </tr>\n",
       "    <tr>\n",
       "      <th>4</th>\n",
       "      <td>A002</td>\n",
       "      <td>R051</td>\n",
       "      <td>02-00-00</td>\n",
       "      <td>59 ST</td>\n",
       "      <td>2019-06-15 16:00:00</td>\n",
       "      <td>2404795</td>\n",
       "      <td>7099127</td>\n",
       "      <td>2019-06-15 12:00:00</td>\n",
       "      <td>7098890.0</td>\n",
       "      <td>2404763.0</td>\n",
       "      <td>237.0</td>\n",
       "      <td>32.0</td>\n",
       "    </tr>\n",
       "    <tr>\n",
       "      <th>5</th>\n",
       "      <td>A002</td>\n",
       "      <td>R051</td>\n",
       "      <td>02-00-00</td>\n",
       "      <td>59 ST</td>\n",
       "      <td>2019-06-15 20:00:00</td>\n",
       "      <td>2404828</td>\n",
       "      <td>7099426</td>\n",
       "      <td>2019-06-15 16:00:00</td>\n",
       "      <td>7099127.0</td>\n",
       "      <td>2404795.0</td>\n",
       "      <td>299.0</td>\n",
       "      <td>33.0</td>\n",
       "    </tr>\n",
       "    <tr>\n",
       "      <th>...</th>\n",
       "      <td>...</td>\n",
       "      <td>...</td>\n",
       "      <td>...</td>\n",
       "      <td>...</td>\n",
       "      <td>...</td>\n",
       "      <td>...</td>\n",
       "      <td>...</td>\n",
       "      <td>...</td>\n",
       "      <td>...</td>\n",
       "      <td>...</td>\n",
       "      <td>...</td>\n",
       "      <td>...</td>\n",
       "    </tr>\n",
       "    <tr>\n",
       "      <th>186471</th>\n",
       "      <td>TRAM2</td>\n",
       "      <td>R469</td>\n",
       "      <td>00-05-01</td>\n",
       "      <td>RIT-ROOSEVELT</td>\n",
       "      <td>2019-06-21 05:00:00</td>\n",
       "      <td>379</td>\n",
       "      <td>5554</td>\n",
       "      <td>2019-06-21 01:00:00</td>\n",
       "      <td>5554.0</td>\n",
       "      <td>379.0</td>\n",
       "      <td>0.0</td>\n",
       "      <td>0.0</td>\n",
       "    </tr>\n",
       "    <tr>\n",
       "      <th>186472</th>\n",
       "      <td>TRAM2</td>\n",
       "      <td>R469</td>\n",
       "      <td>00-05-01</td>\n",
       "      <td>RIT-ROOSEVELT</td>\n",
       "      <td>2019-06-21 09:00:00</td>\n",
       "      <td>379</td>\n",
       "      <td>5554</td>\n",
       "      <td>2019-06-21 05:00:00</td>\n",
       "      <td>5554.0</td>\n",
       "      <td>379.0</td>\n",
       "      <td>0.0</td>\n",
       "      <td>0.0</td>\n",
       "    </tr>\n",
       "    <tr>\n",
       "      <th>186473</th>\n",
       "      <td>TRAM2</td>\n",
       "      <td>R469</td>\n",
       "      <td>00-05-01</td>\n",
       "      <td>RIT-ROOSEVELT</td>\n",
       "      <td>2019-06-21 13:00:00</td>\n",
       "      <td>379</td>\n",
       "      <td>5554</td>\n",
       "      <td>2019-06-21 09:00:00</td>\n",
       "      <td>5554.0</td>\n",
       "      <td>379.0</td>\n",
       "      <td>0.0</td>\n",
       "      <td>0.0</td>\n",
       "    </tr>\n",
       "    <tr>\n",
       "      <th>186474</th>\n",
       "      <td>TRAM2</td>\n",
       "      <td>R469</td>\n",
       "      <td>00-05-01</td>\n",
       "      <td>RIT-ROOSEVELT</td>\n",
       "      <td>2019-06-21 17:00:00</td>\n",
       "      <td>379</td>\n",
       "      <td>5554</td>\n",
       "      <td>2019-06-21 13:00:00</td>\n",
       "      <td>5554.0</td>\n",
       "      <td>379.0</td>\n",
       "      <td>0.0</td>\n",
       "      <td>0.0</td>\n",
       "    </tr>\n",
       "    <tr>\n",
       "      <th>186475</th>\n",
       "      <td>TRAM2</td>\n",
       "      <td>R469</td>\n",
       "      <td>00-05-01</td>\n",
       "      <td>RIT-ROOSEVELT</td>\n",
       "      <td>2019-06-21 21:00:00</td>\n",
       "      <td>379</td>\n",
       "      <td>5554</td>\n",
       "      <td>2019-06-21 17:00:00</td>\n",
       "      <td>5554.0</td>\n",
       "      <td>379.0</td>\n",
       "      <td>0.0</td>\n",
       "      <td>0.0</td>\n",
       "    </tr>\n",
       "  </tbody>\n",
       "</table>\n",
       "<p>182009 rows × 12 columns</p>\n",
       "</div>"
      ],
      "text/plain": [
       "          c_a  unit       scp        station           date_time    exits  \\\n",
       "1        A002  R051  02-00-00          59 ST 2019-06-15 04:00:00  2404650   \n",
       "2        A002  R051  02-00-00          59 ST 2019-06-15 08:00:00  2404676   \n",
       "3        A002  R051  02-00-00          59 ST 2019-06-15 12:00:00  2404763   \n",
       "4        A002  R051  02-00-00          59 ST 2019-06-15 16:00:00  2404795   \n",
       "5        A002  R051  02-00-00          59 ST 2019-06-15 20:00:00  2404828   \n",
       "...       ...   ...       ...            ...                 ...      ...   \n",
       "186471  TRAM2  R469  00-05-01  RIT-ROOSEVELT 2019-06-21 05:00:00      379   \n",
       "186472  TRAM2  R469  00-05-01  RIT-ROOSEVELT 2019-06-21 09:00:00      379   \n",
       "186473  TRAM2  R469  00-05-01  RIT-ROOSEVELT 2019-06-21 13:00:00      379   \n",
       "186474  TRAM2  R469  00-05-01  RIT-ROOSEVELT 2019-06-21 17:00:00      379   \n",
       "186475  TRAM2  R469  00-05-01  RIT-ROOSEVELT 2019-06-21 21:00:00      379   \n",
       "\n",
       "        entries       prev_datetime  prev_entries  prev_exits  delta_entries  \\\n",
       "1       7098758 2019-06-15 00:00:00     7098729.0   2404647.0           29.0   \n",
       "2       7098791 2019-06-15 04:00:00     7098758.0   2404650.0           33.0   \n",
       "3       7098890 2019-06-15 08:00:00     7098791.0   2404676.0           99.0   \n",
       "4       7099127 2019-06-15 12:00:00     7098890.0   2404763.0          237.0   \n",
       "5       7099426 2019-06-15 16:00:00     7099127.0   2404795.0          299.0   \n",
       "...         ...                 ...           ...         ...            ...   \n",
       "186471     5554 2019-06-21 01:00:00        5554.0       379.0            0.0   \n",
       "186472     5554 2019-06-21 05:00:00        5554.0       379.0            0.0   \n",
       "186473     5554 2019-06-21 09:00:00        5554.0       379.0            0.0   \n",
       "186474     5554 2019-06-21 13:00:00        5554.0       379.0            0.0   \n",
       "186475     5554 2019-06-21 17:00:00        5554.0       379.0            0.0   \n",
       "\n",
       "        delta_exits  \n",
       "1               3.0  \n",
       "2              26.0  \n",
       "3              87.0  \n",
       "4              32.0  \n",
       "5              33.0  \n",
       "...             ...  \n",
       "186471          0.0  \n",
       "186472          0.0  \n",
       "186473          0.0  \n",
       "186474          0.0  \n",
       "186475          0.0  \n",
       "\n",
       "[182009 rows x 12 columns]"
      ]
     },
     "execution_count": 130,
     "metadata": {},
     "output_type": "execute_result"
    }
   ],
   "source": [
    "turnstiles_block['delta_exits'] = turnstiles_block.apply(get_counts_exit, axis=1, max_counter=70000)\n",
    "turnstiles_block"
   ]
  },
  {
   "cell_type": "code",
   "execution_count": 131,
   "metadata": {
    "ExecuteTime": {
     "end_time": "2020-07-04T21:55:59.548355Z",
     "start_time": "2020-07-04T21:55:59.546263Z"
    }
   },
   "outputs": [],
   "source": [
    "# mf = turnstiles_block.groupby(['unit', 'station', 'date_time',]).agg({'delta_exits': 'sum'}).reset_index()\n",
    "# mf[:50]"
   ]
  },
  {
   "cell_type": "code",
   "execution_count": 132,
   "metadata": {
    "ExecuteTime": {
     "end_time": "2020-07-04T21:55:59.660980Z",
     "start_time": "2020-07-04T21:55:59.658466Z"
    }
   },
   "outputs": [],
   "source": [
    "\n",
    "\n",
    "\n",
    "# top10 = (mf.sort_values(by='delta_exits',ascending=False).station.head(10))\n",
    "# #pd.DataFrame(top10)\n",
    "# top10"
   ]
  },
  {
   "cell_type": "code",
   "execution_count": 146,
   "metadata": {
    "ExecuteTime": {
     "end_time": "2020-07-04T22:01:08.298921Z",
     "start_time": "2020-07-04T22:01:08.261279Z"
    }
   },
   "outputs": [
    {
     "name": "stderr",
     "output_type": "stream",
     "text": [
      "<ipython-input-146-b1c8c915f912>:4: FutureWarning: Indexing with multiple keys (implicitly converted to a tuple of keys) will be deprecated, use a list instead.\n",
      "  unit_hourly = (turnstiles_block.groupby(['station','unit','date_time'])['delta_exits','delta_entries'].sum().reset_index())\n"
     ]
    }
   ],
   "source": [
    "#unit vs Station name\n",
    "#station complexes vs units vs sationts?\n",
    "\n",
    "unit_hourly = (turnstiles_block.groupby(['station','unit','date_time'])['delta_exits','delta_entries'].sum().reset_index())"
   ]
  },
  {
   "cell_type": "code",
   "execution_count": 147,
   "metadata": {
    "ExecuteTime": {
     "end_time": "2020-07-04T22:01:08.558125Z",
     "start_time": "2020-07-04T22:01:08.539698Z"
    },
    "scrolled": true
   },
   "outputs": [
    {
     "data": {
      "text/html": [
       "<div>\n",
       "<style scoped>\n",
       "    .dataframe tbody tr th:only-of-type {\n",
       "        vertical-align: middle;\n",
       "    }\n",
       "\n",
       "    .dataframe tbody tr th {\n",
       "        vertical-align: top;\n",
       "    }\n",
       "\n",
       "    .dataframe thead th {\n",
       "        text-align: right;\n",
       "    }\n",
       "</style>\n",
       "<table border=\"1\" class=\"dataframe\">\n",
       "  <thead>\n",
       "    <tr style=\"text-align: right;\">\n",
       "      <th></th>\n",
       "      <th>station</th>\n",
       "      <th>unit</th>\n",
       "      <th>date_time</th>\n",
       "      <th>delta_exits</th>\n",
       "      <th>delta_entries</th>\n",
       "    </tr>\n",
       "  </thead>\n",
       "  <tbody>\n",
       "    <tr>\n",
       "      <th>0</th>\n",
       "      <td>1 AV</td>\n",
       "      <td>R248</td>\n",
       "      <td>2019-06-15 04:00:00</td>\n",
       "      <td>680.0</td>\n",
       "      <td>653.0</td>\n",
       "    </tr>\n",
       "    <tr>\n",
       "      <th>1</th>\n",
       "      <td>1 AV</td>\n",
       "      <td>R248</td>\n",
       "      <td>2019-06-15 08:00:00</td>\n",
       "      <td>562.0</td>\n",
       "      <td>233.0</td>\n",
       "    </tr>\n",
       "    <tr>\n",
       "      <th>2</th>\n",
       "      <td>1 AV</td>\n",
       "      <td>R248</td>\n",
       "      <td>2019-06-15 12:00:00</td>\n",
       "      <td>1615.0</td>\n",
       "      <td>840.0</td>\n",
       "    </tr>\n",
       "    <tr>\n",
       "      <th>3</th>\n",
       "      <td>1 AV</td>\n",
       "      <td>R248</td>\n",
       "      <td>2019-06-15 16:00:00</td>\n",
       "      <td>1880.0</td>\n",
       "      <td>1837.0</td>\n",
       "    </tr>\n",
       "    <tr>\n",
       "      <th>4</th>\n",
       "      <td>1 AV</td>\n",
       "      <td>R248</td>\n",
       "      <td>2019-06-15 20:00:00</td>\n",
       "      <td>2589.0</td>\n",
       "      <td>1684.0</td>\n",
       "    </tr>\n",
       "    <tr>\n",
       "      <th>5</th>\n",
       "      <td>1 AV</td>\n",
       "      <td>R248</td>\n",
       "      <td>2019-06-16 00:00:00</td>\n",
       "      <td>1865.0</td>\n",
       "      <td>1423.0</td>\n",
       "    </tr>\n",
       "    <tr>\n",
       "      <th>6</th>\n",
       "      <td>1 AV</td>\n",
       "      <td>R248</td>\n",
       "      <td>2019-06-16 04:00:00</td>\n",
       "      <td>573.0</td>\n",
       "      <td>497.0</td>\n",
       "    </tr>\n",
       "    <tr>\n",
       "      <th>7</th>\n",
       "      <td>1 AV</td>\n",
       "      <td>R248</td>\n",
       "      <td>2019-06-16 08:00:00</td>\n",
       "      <td>394.0</td>\n",
       "      <td>164.0</td>\n",
       "    </tr>\n",
       "    <tr>\n",
       "      <th>8</th>\n",
       "      <td>1 AV</td>\n",
       "      <td>R248</td>\n",
       "      <td>2019-06-16 12:00:00</td>\n",
       "      <td>1059.0</td>\n",
       "      <td>612.0</td>\n",
       "    </tr>\n",
       "    <tr>\n",
       "      <th>9</th>\n",
       "      <td>1 AV</td>\n",
       "      <td>R248</td>\n",
       "      <td>2019-06-16 16:00:00</td>\n",
       "      <td>1641.0</td>\n",
       "      <td>1163.0</td>\n",
       "    </tr>\n",
       "    <tr>\n",
       "      <th>10</th>\n",
       "      <td>1 AV</td>\n",
       "      <td>R248</td>\n",
       "      <td>2019-06-16 20:00:00</td>\n",
       "      <td>1789.0</td>\n",
       "      <td>1270.0</td>\n",
       "    </tr>\n",
       "    <tr>\n",
       "      <th>11</th>\n",
       "      <td>1 AV</td>\n",
       "      <td>R248</td>\n",
       "      <td>2019-06-17 00:00:00</td>\n",
       "      <td>1063.0</td>\n",
       "      <td>866.0</td>\n",
       "    </tr>\n",
       "    <tr>\n",
       "      <th>12</th>\n",
       "      <td>1 AV</td>\n",
       "      <td>R248</td>\n",
       "      <td>2019-06-17 04:00:00</td>\n",
       "      <td>178.0</td>\n",
       "      <td>198.0</td>\n",
       "    </tr>\n",
       "    <tr>\n",
       "      <th>13</th>\n",
       "      <td>1 AV</td>\n",
       "      <td>R248</td>\n",
       "      <td>2019-06-17 08:00:00</td>\n",
       "      <td>2880.0</td>\n",
       "      <td>1328.0</td>\n",
       "    </tr>\n",
       "    <tr>\n",
       "      <th>14</th>\n",
       "      <td>1 AV</td>\n",
       "      <td>R248</td>\n",
       "      <td>2019-06-17 12:00:00</td>\n",
       "      <td>4673.0</td>\n",
       "      <td>4594.0</td>\n",
       "    </tr>\n",
       "    <tr>\n",
       "      <th>15</th>\n",
       "      <td>1 AV</td>\n",
       "      <td>R248</td>\n",
       "      <td>2019-06-17 16:00:00</td>\n",
       "      <td>3942.0</td>\n",
       "      <td>3688.0</td>\n",
       "    </tr>\n",
       "    <tr>\n",
       "      <th>16</th>\n",
       "      <td>1 AV</td>\n",
       "      <td>R248</td>\n",
       "      <td>2019-06-17 20:00:00</td>\n",
       "      <td>5824.0</td>\n",
       "      <td>5507.0</td>\n",
       "    </tr>\n",
       "    <tr>\n",
       "      <th>17</th>\n",
       "      <td>1 AV</td>\n",
       "      <td>R248</td>\n",
       "      <td>2019-06-18 00:00:00</td>\n",
       "      <td>1890.0</td>\n",
       "      <td>1959.0</td>\n",
       "    </tr>\n",
       "    <tr>\n",
       "      <th>18</th>\n",
       "      <td>1 AV</td>\n",
       "      <td>R248</td>\n",
       "      <td>2019-06-18 04:00:00</td>\n",
       "      <td>196.0</td>\n",
       "      <td>245.0</td>\n",
       "    </tr>\n",
       "    <tr>\n",
       "      <th>19</th>\n",
       "      <td>1 AV</td>\n",
       "      <td>R248</td>\n",
       "      <td>2019-06-18 08:00:00</td>\n",
       "      <td>2785.0</td>\n",
       "      <td>1480.0</td>\n",
       "    </tr>\n",
       "    <tr>\n",
       "      <th>20</th>\n",
       "      <td>1 AV</td>\n",
       "      <td>R248</td>\n",
       "      <td>2019-06-18 12:00:00</td>\n",
       "      <td>4916.0</td>\n",
       "      <td>4980.0</td>\n",
       "    </tr>\n",
       "    <tr>\n",
       "      <th>21</th>\n",
       "      <td>1 AV</td>\n",
       "      <td>R248</td>\n",
       "      <td>2019-06-18 16:00:00</td>\n",
       "      <td>4153.0</td>\n",
       "      <td>3991.0</td>\n",
       "    </tr>\n",
       "    <tr>\n",
       "      <th>22</th>\n",
       "      <td>1 AV</td>\n",
       "      <td>R248</td>\n",
       "      <td>2019-06-18 20:00:00</td>\n",
       "      <td>6835.0</td>\n",
       "      <td>5716.0</td>\n",
       "    </tr>\n",
       "    <tr>\n",
       "      <th>23</th>\n",
       "      <td>1 AV</td>\n",
       "      <td>R248</td>\n",
       "      <td>2019-06-19 00:00:00</td>\n",
       "      <td>2431.0</td>\n",
       "      <td>2444.0</td>\n",
       "    </tr>\n",
       "    <tr>\n",
       "      <th>24</th>\n",
       "      <td>1 AV</td>\n",
       "      <td>R248</td>\n",
       "      <td>2019-06-19 04:00:00</td>\n",
       "      <td>306.0</td>\n",
       "      <td>298.0</td>\n",
       "    </tr>\n",
       "    <tr>\n",
       "      <th>25</th>\n",
       "      <td>1 AV</td>\n",
       "      <td>R248</td>\n",
       "      <td>2019-06-19 08:00:00</td>\n",
       "      <td>2888.0</td>\n",
       "      <td>1361.0</td>\n",
       "    </tr>\n",
       "    <tr>\n",
       "      <th>26</th>\n",
       "      <td>1 AV</td>\n",
       "      <td>R248</td>\n",
       "      <td>2019-06-19 12:00:00</td>\n",
       "      <td>5011.0</td>\n",
       "      <td>5039.0</td>\n",
       "    </tr>\n",
       "    <tr>\n",
       "      <th>27</th>\n",
       "      <td>1 AV</td>\n",
       "      <td>R248</td>\n",
       "      <td>2019-06-19 16:00:00</td>\n",
       "      <td>3960.0</td>\n",
       "      <td>4020.0</td>\n",
       "    </tr>\n",
       "    <tr>\n",
       "      <th>28</th>\n",
       "      <td>1 AV</td>\n",
       "      <td>R248</td>\n",
       "      <td>2019-06-19 20:00:00</td>\n",
       "      <td>6870.0</td>\n",
       "      <td>5999.0</td>\n",
       "    </tr>\n",
       "    <tr>\n",
       "      <th>29</th>\n",
       "      <td>1 AV</td>\n",
       "      <td>R248</td>\n",
       "      <td>2019-06-20 00:00:00</td>\n",
       "      <td>2251.0</td>\n",
       "      <td>2637.0</td>\n",
       "    </tr>\n",
       "    <tr>\n",
       "      <th>30</th>\n",
       "      <td>1 AV</td>\n",
       "      <td>R248</td>\n",
       "      <td>2019-06-20 04:00:00</td>\n",
       "      <td>240.0</td>\n",
       "      <td>311.0</td>\n",
       "    </tr>\n",
       "    <tr>\n",
       "      <th>31</th>\n",
       "      <td>1 AV</td>\n",
       "      <td>R248</td>\n",
       "      <td>2019-06-20 08:00:00</td>\n",
       "      <td>2668.0</td>\n",
       "      <td>1324.0</td>\n",
       "    </tr>\n",
       "    <tr>\n",
       "      <th>32</th>\n",
       "      <td>1 AV</td>\n",
       "      <td>R248</td>\n",
       "      <td>2019-06-20 12:00:00</td>\n",
       "      <td>5143.0</td>\n",
       "      <td>4807.0</td>\n",
       "    </tr>\n",
       "    <tr>\n",
       "      <th>33</th>\n",
       "      <td>1 AV</td>\n",
       "      <td>R248</td>\n",
       "      <td>2019-06-20 16:00:00</td>\n",
       "      <td>4111.0</td>\n",
       "      <td>4108.0</td>\n",
       "    </tr>\n",
       "    <tr>\n",
       "      <th>34</th>\n",
       "      <td>1 AV</td>\n",
       "      <td>R248</td>\n",
       "      <td>2019-06-20 20:00:00</td>\n",
       "      <td>7055.0</td>\n",
       "      <td>6061.0</td>\n",
       "    </tr>\n",
       "    <tr>\n",
       "      <th>35</th>\n",
       "      <td>1 AV</td>\n",
       "      <td>R248</td>\n",
       "      <td>2019-06-21 00:00:00</td>\n",
       "      <td>2441.0</td>\n",
       "      <td>2773.0</td>\n",
       "    </tr>\n",
       "    <tr>\n",
       "      <th>36</th>\n",
       "      <td>1 AV</td>\n",
       "      <td>R248</td>\n",
       "      <td>2019-06-21 04:00:00</td>\n",
       "      <td>326.0</td>\n",
       "      <td>342.0</td>\n",
       "    </tr>\n",
       "    <tr>\n",
       "      <th>37</th>\n",
       "      <td>1 AV</td>\n",
       "      <td>R248</td>\n",
       "      <td>2019-06-21 08:00:00</td>\n",
       "      <td>2620.0</td>\n",
       "      <td>1227.0</td>\n",
       "    </tr>\n",
       "    <tr>\n",
       "      <th>38</th>\n",
       "      <td>1 AV</td>\n",
       "      <td>R248</td>\n",
       "      <td>2019-06-21 12:00:00</td>\n",
       "      <td>4817.0</td>\n",
       "      <td>5082.0</td>\n",
       "    </tr>\n",
       "    <tr>\n",
       "      <th>39</th>\n",
       "      <td>1 AV</td>\n",
       "      <td>R248</td>\n",
       "      <td>2019-06-21 16:00:00</td>\n",
       "      <td>4462.0</td>\n",
       "      <td>4209.0</td>\n",
       "    </tr>\n",
       "    <tr>\n",
       "      <th>40</th>\n",
       "      <td>1 AV</td>\n",
       "      <td>R248</td>\n",
       "      <td>2019-06-21 20:00:00</td>\n",
       "      <td>6547.0</td>\n",
       "      <td>6130.0</td>\n",
       "    </tr>\n",
       "    <tr>\n",
       "      <th>41</th>\n",
       "      <td>103 ST</td>\n",
       "      <td>R180</td>\n",
       "      <td>2019-06-15 05:00:00</td>\n",
       "      <td>185.0</td>\n",
       "      <td>94.0</td>\n",
       "    </tr>\n",
       "    <tr>\n",
       "      <th>42</th>\n",
       "      <td>103 ST</td>\n",
       "      <td>R180</td>\n",
       "      <td>2019-06-15 09:00:00</td>\n",
       "      <td>572.0</td>\n",
       "      <td>877.0</td>\n",
       "    </tr>\n",
       "    <tr>\n",
       "      <th>43</th>\n",
       "      <td>103 ST</td>\n",
       "      <td>R180</td>\n",
       "      <td>2019-06-15 13:00:00</td>\n",
       "      <td>962.0</td>\n",
       "      <td>1704.0</td>\n",
       "    </tr>\n",
       "    <tr>\n",
       "      <th>44</th>\n",
       "      <td>103 ST</td>\n",
       "      <td>R180</td>\n",
       "      <td>2019-06-15 17:00:00</td>\n",
       "      <td>1025.0</td>\n",
       "      <td>2064.0</td>\n",
       "    </tr>\n",
       "    <tr>\n",
       "      <th>45</th>\n",
       "      <td>103 ST</td>\n",
       "      <td>R180</td>\n",
       "      <td>2019-06-15 21:00:00</td>\n",
       "      <td>921.0</td>\n",
       "      <td>1396.0</td>\n",
       "    </tr>\n",
       "    <tr>\n",
       "      <th>46</th>\n",
       "      <td>103 ST</td>\n",
       "      <td>R180</td>\n",
       "      <td>2019-06-16 01:00:00</td>\n",
       "      <td>609.0</td>\n",
       "      <td>540.0</td>\n",
       "    </tr>\n",
       "    <tr>\n",
       "      <th>47</th>\n",
       "      <td>103 ST</td>\n",
       "      <td>R180</td>\n",
       "      <td>2019-06-16 05:00:00</td>\n",
       "      <td>181.0</td>\n",
       "      <td>81.0</td>\n",
       "    </tr>\n",
       "    <tr>\n",
       "      <th>48</th>\n",
       "      <td>103 ST</td>\n",
       "      <td>R180</td>\n",
       "      <td>2019-06-16 09:00:00</td>\n",
       "      <td>365.0</td>\n",
       "      <td>496.0</td>\n",
       "    </tr>\n",
       "    <tr>\n",
       "      <th>49</th>\n",
       "      <td>103 ST</td>\n",
       "      <td>R180</td>\n",
       "      <td>2019-06-16 13:00:00</td>\n",
       "      <td>558.0</td>\n",
       "      <td>1183.0</td>\n",
       "    </tr>\n",
       "  </tbody>\n",
       "</table>\n",
       "</div>"
      ],
      "text/plain": [
       "   station  unit           date_time  delta_exits  delta_entries\n",
       "0     1 AV  R248 2019-06-15 04:00:00        680.0          653.0\n",
       "1     1 AV  R248 2019-06-15 08:00:00        562.0          233.0\n",
       "2     1 AV  R248 2019-06-15 12:00:00       1615.0          840.0\n",
       "3     1 AV  R248 2019-06-15 16:00:00       1880.0         1837.0\n",
       "4     1 AV  R248 2019-06-15 20:00:00       2589.0         1684.0\n",
       "5     1 AV  R248 2019-06-16 00:00:00       1865.0         1423.0\n",
       "6     1 AV  R248 2019-06-16 04:00:00        573.0          497.0\n",
       "7     1 AV  R248 2019-06-16 08:00:00        394.0          164.0\n",
       "8     1 AV  R248 2019-06-16 12:00:00       1059.0          612.0\n",
       "9     1 AV  R248 2019-06-16 16:00:00       1641.0         1163.0\n",
       "10    1 AV  R248 2019-06-16 20:00:00       1789.0         1270.0\n",
       "11    1 AV  R248 2019-06-17 00:00:00       1063.0          866.0\n",
       "12    1 AV  R248 2019-06-17 04:00:00        178.0          198.0\n",
       "13    1 AV  R248 2019-06-17 08:00:00       2880.0         1328.0\n",
       "14    1 AV  R248 2019-06-17 12:00:00       4673.0         4594.0\n",
       "15    1 AV  R248 2019-06-17 16:00:00       3942.0         3688.0\n",
       "16    1 AV  R248 2019-06-17 20:00:00       5824.0         5507.0\n",
       "17    1 AV  R248 2019-06-18 00:00:00       1890.0         1959.0\n",
       "18    1 AV  R248 2019-06-18 04:00:00        196.0          245.0\n",
       "19    1 AV  R248 2019-06-18 08:00:00       2785.0         1480.0\n",
       "20    1 AV  R248 2019-06-18 12:00:00       4916.0         4980.0\n",
       "21    1 AV  R248 2019-06-18 16:00:00       4153.0         3991.0\n",
       "22    1 AV  R248 2019-06-18 20:00:00       6835.0         5716.0\n",
       "23    1 AV  R248 2019-06-19 00:00:00       2431.0         2444.0\n",
       "24    1 AV  R248 2019-06-19 04:00:00        306.0          298.0\n",
       "25    1 AV  R248 2019-06-19 08:00:00       2888.0         1361.0\n",
       "26    1 AV  R248 2019-06-19 12:00:00       5011.0         5039.0\n",
       "27    1 AV  R248 2019-06-19 16:00:00       3960.0         4020.0\n",
       "28    1 AV  R248 2019-06-19 20:00:00       6870.0         5999.0\n",
       "29    1 AV  R248 2019-06-20 00:00:00       2251.0         2637.0\n",
       "30    1 AV  R248 2019-06-20 04:00:00        240.0          311.0\n",
       "31    1 AV  R248 2019-06-20 08:00:00       2668.0         1324.0\n",
       "32    1 AV  R248 2019-06-20 12:00:00       5143.0         4807.0\n",
       "33    1 AV  R248 2019-06-20 16:00:00       4111.0         4108.0\n",
       "34    1 AV  R248 2019-06-20 20:00:00       7055.0         6061.0\n",
       "35    1 AV  R248 2019-06-21 00:00:00       2441.0         2773.0\n",
       "36    1 AV  R248 2019-06-21 04:00:00        326.0          342.0\n",
       "37    1 AV  R248 2019-06-21 08:00:00       2620.0         1227.0\n",
       "38    1 AV  R248 2019-06-21 12:00:00       4817.0         5082.0\n",
       "39    1 AV  R248 2019-06-21 16:00:00       4462.0         4209.0\n",
       "40    1 AV  R248 2019-06-21 20:00:00       6547.0         6130.0\n",
       "41  103 ST  R180 2019-06-15 05:00:00        185.0           94.0\n",
       "42  103 ST  R180 2019-06-15 09:00:00        572.0          877.0\n",
       "43  103 ST  R180 2019-06-15 13:00:00        962.0         1704.0\n",
       "44  103 ST  R180 2019-06-15 17:00:00       1025.0         2064.0\n",
       "45  103 ST  R180 2019-06-15 21:00:00        921.0         1396.0\n",
       "46  103 ST  R180 2019-06-16 01:00:00        609.0          540.0\n",
       "47  103 ST  R180 2019-06-16 05:00:00        181.0           81.0\n",
       "48  103 ST  R180 2019-06-16 09:00:00        365.0          496.0\n",
       "49  103 ST  R180 2019-06-16 13:00:00        558.0         1183.0"
      ]
     },
     "execution_count": 147,
     "metadata": {},
     "output_type": "execute_result"
    }
   ],
   "source": [
    "unit_hourly[:50]"
   ]
  },
  {
   "cell_type": "code",
   "execution_count": 157,
   "metadata": {
    "ExecuteTime": {
     "end_time": "2020-07-04T22:01:28.329757Z",
     "start_time": "2020-07-04T22:01:28.312614Z"
    }
   },
   "outputs": [
    {
     "name": "stderr",
     "output_type": "stream",
     "text": [
      "<ipython-input-157-59892b6b2257>:1: FutureWarning: Indexing with multiple keys (implicitly converted to a tuple of keys) will be deprecated, use a list instead.\n",
      "  top = unit_hourly.groupby(['unit', 'date_time'])['delta_exits','delta_entries'].sum().reset_index()\n"
     ]
    }
   ],
   "source": [
    "top = unit_hourly.groupby(['unit', 'date_time'])['delta_exits','delta_entries'].sum().reset_index()\n",
    "\n",
    "\n",
    "top10 = (top.sort_values(by=['delta_exits'],ascending=False)\n",
    "        .unit.head(100))"
   ]
  },
  {
   "cell_type": "code",
   "execution_count": 158,
   "metadata": {
    "ExecuteTime": {
     "end_time": "2020-07-04T22:01:30.309705Z",
     "start_time": "2020-07-04T22:01:30.306330Z"
    }
   },
   "outputs": [
    {
     "data": {
      "text/plain": [
       "array(['R020', 'R011', 'R170', 'R046', 'R535', 'R032', 'R252', 'R536',\n",
       "       'R021', 'R057'], dtype=object)"
      ]
     },
     "execution_count": 158,
     "metadata": {},
     "output_type": "execute_result"
    }
   ],
   "source": [
    "top10units = top10.unique()[:10]\n",
    "top10units"
   ]
  },
  {
   "cell_type": "code",
   "execution_count": 159,
   "metadata": {
    "ExecuteTime": {
     "end_time": "2020-07-04T22:01:30.552520Z",
     "start_time": "2020-07-04T22:01:30.548673Z"
    }
   },
   "outputs": [
    {
     "data": {
      "text/plain": [
       "array(['R020', 'R011', 'R170', 'R046', 'R535'], dtype=object)"
      ]
     },
     "execution_count": 159,
     "metadata": {},
     "output_type": "execute_result"
    }
   ],
   "source": [
    "top5units = top10.unique()[:5]\n",
    "top5units"
   ]
  },
  {
   "cell_type": "code",
   "execution_count": 160,
   "metadata": {
    "ExecuteTime": {
     "end_time": "2020-07-04T22:01:30.977831Z",
     "start_time": "2020-07-04T22:01:30.973222Z"
    }
   },
   "outputs": [
    {
     "data": {
      "text/plain": [
       "755     R020\n",
       "761     R020\n",
       "749     R020\n",
       "767     R020\n",
       "773     R020\n",
       "        ... \n",
       "1167    R031\n",
       "567     R015\n",
       "1047    R028\n",
       "1083    R029\n",
       "872     R023\n",
       "Name: unit, Length: 100, dtype: object"
      ]
     },
     "execution_count": 160,
     "metadata": {},
     "output_type": "execute_result"
    }
   ],
   "source": [
    "top10"
   ]
  },
  {
   "cell_type": "code",
   "execution_count": 161,
   "metadata": {
    "ExecuteTime": {
     "end_time": "2020-07-04T22:01:31.249678Z",
     "start_time": "2020-07-04T22:01:31.245504Z"
    }
   },
   "outputs": [
    {
     "data": {
      "text/plain": [
       "unit                            R055\n",
       "date_time        2019-06-16 12:00:00\n",
       "delta_exits                     5401\n",
       "delta_entries                   7304\n",
       "Name: 2133, dtype: object"
      ]
     },
     "execution_count": 161,
     "metadata": {},
     "output_type": "execute_result"
    }
   ],
   "source": [
    "top.iloc[2133]"
   ]
  },
  {
   "cell_type": "code",
   "execution_count": 162,
   "metadata": {
    "ExecuteTime": {
     "end_time": "2020-07-04T22:01:31.679280Z",
     "start_time": "2020-07-04T22:01:31.674231Z"
    }
   },
   "outputs": [],
   "source": [
    "mask = (unit_hourly['unit'] == 'R001')\n",
    "sample_df = unit_hourly[mask].head(50)"
   ]
  },
  {
   "cell_type": "code",
   "execution_count": 163,
   "metadata": {
    "ExecuteTime": {
     "end_time": "2020-07-04T22:01:31.983841Z",
     "start_time": "2020-07-04T22:01:31.981402Z"
    }
   },
   "outputs": [],
   "source": [
    "import matplotlib.pyplot as plt\n",
    "import numpy as np\n",
    "import pandas as pd"
   ]
  },
  {
   "cell_type": "code",
   "execution_count": 164,
   "metadata": {
    "ExecuteTime": {
     "end_time": "2020-07-04T22:01:32.335208Z",
     "start_time": "2020-07-04T22:01:32.328522Z"
    }
   },
   "outputs": [
    {
     "data": {
      "text/plain": [
       "(41, 5)"
      ]
     },
     "execution_count": 164,
     "metadata": {},
     "output_type": "execute_result"
    }
   ],
   "source": [
    "mask = unit_hourly['station'] == '14 ST-UNION SQ'\n",
    "sample_df = unit_hourly[mask]\n",
    "sample_df.shape"
   ]
  },
  {
   "cell_type": "code",
   "execution_count": 167,
   "metadata": {
    "ExecuteTime": {
     "end_time": "2020-07-05T00:02:48.343879Z",
     "start_time": "2020-07-05T00:02:48.072849Z"
    }
   },
   "outputs": [
    {
     "data": {
      "image/png": "[encoded data removed]",
      "text/plain": [
       "<Figure size 1080x720 with 1 Axes>"
      ]
     },
     "metadata": {
      "needs_background": "light"
     },
     "output_type": "display_data"
    }
   ],
   "source": [
    "plt.figure(figsize=[15,10])\n",
    "#plt.plot(sample_df.date_time, sample_df.delta_exits)\n",
    "\n",
    "for i in top5units: \n",
    "    mask = (top['unit'] == i)\n",
    "    top5_df = top[mask]\n",
    "    plt.plot(top5_df.date_time, top5_df.delta_exits, label = top5_df.unit.iloc[0])\n",
    "plt.legend()\n",
    "\n",
    "plt.title('Traffic in the top 5 stations during COVID-19', fontsize=20, weight='bold',color='b')\n",
    "plt.xlabel('Date', fontsize=15, weight='bold',color='b')\n",
    "plt.ylabel('Traffic', fontsize=15, weight='bold',color='b')\n",
    "plt.savefig('top5 stations traffic.png')"
   ]
  },
  {
   "cell_type": "code",
   "execution_count": null,
   "metadata": {
    "ExecuteTime": {
     "end_time": "2020-07-04T22:01:10.478334Z",
     "start_time": "2020-07-04T22:01:10.403Z"
    }
   },
   "outputs": [],
   "source": [
    "plt.figure(figsize=[15,10])\n",
    "plt.plot(sample_df.date_time, sample_df.delta_exits)\n",
    "\n",
    "for i in top10units:\n",
    "    mask = (unit_hourly['unit'] == i)\n",
    "    top5_df = unit_hourly[mask].head(50)\n",
    "\n",
    "    plt.plot(top5_df.date_time, top5_df.delta_exits, label = unit_hourly['unit' ==i]\n",
    "plt.legend()"
   ]
  },
  {
   "cell_type": "code",
   "execution_count": null,
   "metadata": {},
   "outputs": [],
   "source": []
  },
  {
   "cell_type": "code",
   "execution_count": null,
   "metadata": {},
   "outputs": [],
   "source": []
  }
 ],
 "metadata": {
  "kernelspec": {
   "display_name": "Python 3",
   "language": "python",
   "name": "python3"
  },
  "language_info": {
   "codemirror_mode": {
    "name": "ipython",
    "version": 3
   },
   "file_extension": ".py",
   "mimetype": "text/x-python",
   "name": "python",
   "nbconvert_exporter": "python",
   "pygments_lexer": "ipython3",
   "version": "3.8.3"
  },
  "toc": {
   "base_numbering": 1,
   "nav_menu": {},
   "number_sections": true,
   "sideBar": true,
   "skip_h1_title": false,
   "title_cell": "Table of Contents",
   "title_sidebar": "Contents",
   "toc_cell": false,
   "toc_position": {},
   "toc_section_display": true,
   "toc_window_display": false
  },
  "varInspector": {
   "cols": {
    "lenName": 16,
    "lenType": 16,
    "lenVar": 40
   },
   "kernels_config": {
    "python": {
     "delete_cmd_postfix": "",
     "delete_cmd_prefix": "del ",
     "library": "var_list.py",
     "varRefreshCmd": "print(var_dic_list())"
    },
    "r": {
     "delete_cmd_postfix": ") ",
     "delete_cmd_prefix": "rm(",
     "library": "var_list.r",
     "varRefreshCmd": "cat(var_dic_list()) "
    }
   },
   "position": {
    "height": "485px",
    "left": "1519px",
    "right": "20px",
    "top": "116px",
    "width": "389px"
   },
   "types_to_exclude": [
    "module",
    "function",
    "builtin_function_or_method",
    "instance",
    "_Feature"
   ],
   "window_display": true
  }
 },
 "nbformat": 4,
 "nbformat_minor": 4
}
